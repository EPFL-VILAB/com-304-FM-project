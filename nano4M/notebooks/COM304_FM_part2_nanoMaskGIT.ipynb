{
 "cells": [
  {
   "cell_type": "markdown",
   "id": "4bf7f397-467f-4f24-a18f-4143eca2c3ed",
   "metadata": {
    "tags": []
   },
   "source": [
    "# COM-304 Foundation Models: Part 2 - nanoMaskGIT\n",
    "\n",
    "#### Goals:\n",
    "\n",
    "The goal of this second part is to familiarize yourself with the following topics:\n",
    "- Bi-directional attention\n",
    "- Encoder-only Transformer (e.g. BERT, MaskGIT, ...) models\n",
    "- Basic masking schemes\n",
    "- Masked modelling on text and images\n",
    "- Masked inference\n",
    "\n",
    "This notebook should give you a solid foundation of working with masked image models.\n",
    "If you want to know more about these topics, please see some of the reading material in the lectures and at the bottom of this notebook, and feel free to ask the TAs.\n",
    "\n",
    "\n",
    "#### Instructions:\n",
    "\n",
    "- Your task is to fill in the missing code in the acompagning codebase (highlighted by `???`), run the training loops and evaluate the trained models with this notebook.\n",
    "- Submit the notebook with all cells executed, as well as `nanofm/models/maskgit.py`.\n",
    "- The notebooks are individual homework."
   ]
  },
  {
   "cell_type": "markdown",
   "id": "7c7ba70f-25dd-4bdb-953b-d5e4547569ae",
   "metadata": {
    "tags": []
   },
   "source": [
    "---\n",
    "\n",
    "## 1 Setup\n",
    "\n",
    "Please follow the setup detailed in the first notebook."
   ]
  },
  {
   "cell_type": "markdown",
   "id": "e3365eba-118f-4f63-96fe-1c9904fbc050",
   "metadata": {},
   "source": [
    "### 1.1 Imports"
   ]
  },
  {
   "cell_type": "code",
   "execution_count": 1,
   "id": "38061c15-c053-431a-9265-536b778fe5ca",
   "metadata": {},
   "outputs": [],
   "source": [
    "# Switch path to root of project\n",
    "import os\n",
    "os.environ[\"CUDA_VISIBLE_DEVICES\"]=\"0\"\n",
    "current_folder = globals()['_dh'][0]\n",
    "os.chdir(os.path.dirname(os.path.abspath(current_folder)))\n",
    "\n",
    "%load_ext autoreload\n",
    "%autoreload 2"
   ]
  },
  {
   "cell_type": "code",
   "execution_count": 2,
   "id": "ef049477-3435-4543-bef7-acfaea93c2bd",
   "metadata": {},
   "outputs": [
    {
     "name": "stderr",
     "output_type": "stream",
     "text": [
      "/work/com-304/new_environment/anaconda3/envs/nanofm/lib/python3.10/site-packages/tqdm/auto.py:21: TqdmWarning: IProgress not found. Please update jupyter and ipywidgets. See https://ipywidgets.readthedocs.io/en/stable/user_install.html\n",
      "  from .autonotebook import tqdm as notebook_tqdm\n"
     ]
    },
    {
     "data": {
      "text/plain": [
       "<torch.autograd.grad_mode.set_grad_enabled at 0x7ffa27b00520>"
      ]
     },
     "execution_count": 2,
     "metadata": {},
     "output_type": "execute_result"
    }
   ],
   "source": [
    "import re\n",
    "import torch\n",
    "from einops import rearrange\n",
    "from transformers import AutoTokenizer\n",
    "from tokenizers.processors import TemplateProcessing\n",
    "\n",
    "import matplotlib.pyplot as plt\n",
    "from mpl_toolkits.axes_grid1 import ImageGrid\n",
    "\n",
    "from nanofm.utils.checkpoint import load_model_from_safetensors\n",
    "from nanofm.data.vision.tokenized_mnist import create_tokenized_mnist_dataloader, detokenize_MNIST\n",
    "\n",
    "os.environ[\"TOKENIZERS_PARALLELISM\"] = \"false\"\n",
    "\n",
    "# The flag below controls whether to allow TF32 on matmul. This flag defaults to False in PyTorch 1.12 and later.\n",
    "torch.backends.cuda.matmul.allow_tf32 = True\n",
    "# The flag below controls whether to allow TF32 on cuDNN. This flag defaults to True.\n",
    "torch.backends.cudnn.allow_tf32 = True\n",
    "\n",
    "device = 'cuda' if torch.cuda.is_available() else 'cpu'\n",
    "torch.set_grad_enabled(False)"
   ]
  },
  {
   "cell_type": "markdown",
   "id": "32547ef7-1554-4d80-80fa-bf0b3487dca9",
   "metadata": {
    "tags": []
   },
   "source": [
    "---\n",
    "\n",
    "## 2 Training nanoMaskGIT on MNIST for image generation\n",
    "\n",
    "In this exercise, we will implement a simplified masked generative model, similar to [MaskGIT](https://masked-generative-image-transformer.github.io/). \n",
    "As with our nanoGPT implementation, we will train it on MNIST for image generation, but will also later explore using it for text generation on TinyStories!\n",
    "\n",
    "#### Masked modeling - Training objective\n",
    "\n",
    "In contrast to autoregressive models that are trained to predict the next token given the context so far, masked generative models like MaskGIT are trained to predict any (masked-out) token given any other (non-masked) subset of tokens.\n",
    "Consider the following example: \n",
    "\n",
    "**Original Sentence:**  \n",
    "```\n",
    "\"The quick brown fox jumps over the lazy dog.\"\n",
    "```\n",
    "\n",
    "**Masked Training Example (cloze):**  \n",
    "```\n",
    "\"The quick [MASK] fox jumps over the [MASK] dog.\"\n",
    "```\n",
    "\n",
    "**Goal:**  \n",
    "The model must predict:\n",
    "- `[MASK]` → \"brown\"\n",
    "- `[MASK]` → \"lazy\"\n",
    "\n",
    "By repeatedly training the model to predict these randomly masked tokens across a large dataset, MaskGIT learns how tokens fit contextually within sequences.\n",
    "\n",
    "\n",
    "#### Masked modeling - Inference\n",
    "\n",
    "\n",
    "By training a model with randomized masking ratios, we are able to use it to progressively \"unmask\" a fully masked initial sequence.\n",
    "At inference, the model starts with all tokens masked and progressively unmasks tokens in multiple steps. Let's show an inference example generating two (`k=2`) tokens at a time.\n",
    "\n",
    "**Initial Masked Sequence:**  \n",
    "```\n",
    "\"[MASK] [MASK] [MASK] [MASK] [MASK] [MASK] [MASK] [MASK] [MASK]\"\n",
    "```\n",
    "\n",
    "**Step-by-step Generation (k=2 tokens at a time):**  \n",
    "\n",
    "- **Step 1:**  \n",
    "```\n",
    "\"The [MASK] [MASK] [MASK] [MASK] [MASK] [MASK] [MASK] dog.\"\n",
    "```\n",
    "\n",
    "- **Step 2:** (unmask next 2 most confident tokens)  \n",
    "```\n",
    "\"The quick [MASK] [MASK] [MASK] [MASK] [MASK] lazy dog.\"\n",
    "```\n",
    "\n",
    "- **Step 3:** (unmask next 2 tokens)  \n",
    "```\n",
    "\"The quick [MASK] fox [MASK] [MASK] [MASK] lazy dog.\"\n",
    "```\n",
    "\n",
    "- **Step 4:** (unmask next 2 tokens)  \n",
    "```\n",
    "\"The quick brown fox jumps [MASK] the lazy dog.\"\n",
    "```\n",
    "\n",
    "- **Step 5 (Final):** (all tokens unmasked)  \n",
    "```\n",
    "\"The quick brown fox jumps over the lazy dog.\"\n",
    "```\n",
    "\n",
    "At each inference step, MaskGIT predicts all masked-out tokens simultaneously (in parallel), and, based on the predicted probabilites, selects the `k` (here `k=2`) most likely tokens. \n",
    "After deciding on which tokens to use, we sample a token index from the predicted probability distribution for each token, and add the tokens to the sequence. \n",
    "This, now slightly less masked, sequence is then used as the input for the next round, where again, the `k=2` most confident tokens are chosen of the remaining masked targets.\n",
    "\n",
    "A crucial difference of masked models to next-token prediction is that at each inference step we can freely choose the number of tokens `k` to simultaneously decode. \n",
    "Depending on the choice of `k`, this can speed up inference significantly, at little cost to generation performance. \n",
    "For example, see the comparison between raster-scan autoregressive, and masked generation below.\n",
    "Each frame of the gif is one generation step. Autoregressive generation predicts each token one-by-one, while masked models may predict them in parallel.\n",
    "\n",
    "![adsf](https://masked-generative-image-transformer.github.io/imgs/sampling.gif)"
   ]
  },
  {
   "cell_type": "markdown",
   "id": "943ec3ac-cbc1-4ace-808f-a0ed9b88ae6d",
   "metadata": {
    "tags": []
   },
   "source": [
    "### 2.1 Overview and tasks\n",
    "\n",
    "To implement nanoMaskGIT, we ask you to complete the subsections below by directly filling in the missing lines in the code base."
   ]
  },
  {
   "cell_type": "markdown",
   "id": "fc0a0338-c83f-4b7f-b4bf-52e15babc394",
   "metadata": {},
   "source": [
    "#### 2.1.1 Initialize nanoMaskGIT (5 points)\n",
    "\n",
    "We will reuse the exact same Transformer layers and trunk built last week for the nanoGPT model, but this time we will use it to assemble a MaskGIT-like model in `nanofm.models.maskgit.MaskGIT`.\n",
    "It consists of a few operations executed in series. Initialize the following modules in the constructor:\n",
    "1. The discrete input tokens are embedded with an `nn.Embedding` layer. Initialize `self.input_embedding` accordingly, taking into account the vocabulary size.\n",
    "2. On top of that, we add learnable positional embeddings. Initialize `self.positional_embedding` as an `nn.Parameter` containing a randomly initialized Tensor of shape (`max_seq_len`, `dim`).\n",
    "3. To indicate masked-out tokens and provide placeholders to write the targets, initialize `self.mask_token` as an `nn.Parameter` containing a randomly initialized Tensor of shape (`dim`).\n",
    "4. This then gets passed to a Transformer trunk. Initialize `self.trunk` with the trunk you implemented last week.\n",
    "5. Finally we project the trunk output through a LayerNorm and output projection that maps the elements from the Transformer dimension to the vocabulary size (as a one-hot vector per token). Initialize `self.out_norm` and `self.to_logits`. The bias term for `self.to_logits` should always be set to False."
   ]
  },
  {
   "cell_type": "markdown",
   "id": "ea932812-cd3e-4cd6-8d0d-b5ffddd38917",
   "metadata": {},
   "source": [
    "#### 2.1.2 Implement the forward function and loss (10 points)\n",
    "\n",
    "Next, let's implement the `forward_model` function:\n",
    "1. Pass the input tokens through the embedding. \n",
    "2. Given the `mask`, replace these embeddings by the learned `self.mask_token`, wherever `mask == True`.\n",
    "3. Add the positional embedding, pass it through the Transformer trunk, output normalization, and output projection.\n",
    "4. When calling the Transformer trunk, no attention mask needs to be specified. This model performs full self-attention between all masked and non-masked tokens.\n",
    "\n",
    "Finally, we need to compute the cross-entropy loss between the logits and the ground-truth targets. Please complete the `compute_ce_loss` function accordingly, and take into account the ignore_index token. We do not want to compute a loss on non-masked tokens that we pass as input; we only compute it on masked-out tokens that we predict."
   ]
  },
  {
   "cell_type": "markdown",
   "id": "c1ab6ee5-36ad-4b03-b053-1188750696fc",
   "metadata": {},
   "source": [
    "#### 2.1.3 Implement random masking (15 points)\n",
    "\n",
    "As used in the `forward` function, during training we want to randomize the `mask` you just applied to the inputs. \n",
    "For that, please complete the `generate_random_mask` function that should return a random mask where True = masked-out and False = not masked.\n",
    "Each sample in the batch should randomly mask out between 1 and L tokens, where L is the sequence length. \n",
    "When L tokens are masked-out, it means there is no input and all tokens are predicted.\n",
    "When only 1 token is masked-out, it means that all but one token are given as input, and only one is predicted. \n",
    "You should be able to see why we have to have at least one token masked.\n",
    "\n",
    "The returned mask tensor should be of type `torch.BoolTensor`, moved to the same device (GPU) as `seq`, and be of shape (B, L).\n",
    "Note that both the number of mask tokens, as well as the placement of the masks should be sampled completely uniformly at random, for every sample in the batch individually.\n",
    "That means you should not apply and broadcast the same mask to the entire batch."
   ]
  },
  {
   "cell_type": "markdown",
   "id": "9533221b-9754-4f89-b8d6-a8ddc105bce7",
   "metadata": {
    "jp-MarkdownHeadingCollapsed": true,
    "tags": []
   },
   "source": [
    "#### 2.1.4 MaskGIT schedule and generation function (20 points)\n",
    "\n",
    "Now let's implement the generation function. We do that in two steps:\n",
    "\n",
    "First, let's implement a so-called generation schedule in `get_maskgit_schedule`. \n",
    "Its task is to give us a list of number of tokens to unmask at every prediction step. \n",
    "It's quite common to make this a cosine schedule, i.e. where the tokens are unmasked slowly at the beginning, then in the middle many tokens are predicted at once, and finally in the end we ramp down again.\n",
    "Here we will implement a much simpler constant schedule, where the number of unmasked tokens per step is constant.\n",
    "For example, if total_tokens = 17 and num_steps = 8, then the schedule should be: [2, 2, 2, 2, 2, 2, 2, 3]. \n",
    "If the total number of tokens is not divisible by the number of steps, we simply add the remainder to the last step.\n",
    "The `schedule` should be a list of integers of length `num_steps`, where each integer represents the number of tokens to unmask at that step. \n",
    "The sum of the integers in `schedule` should equal `total_tokens`.\n",
    "\n",
    "With the simple schedule implemented, let's use it in the `generate` function. Generation is performed in a loop in the following steps:\n",
    "1. Given the sequence and mask so far, simply pass them through the network to get the logits.\n",
    "2. Then, select the subset of logits that we actually want to predict, i.e. the masked-out tokens.\n",
    "3. Over all these predicted tokens, we only want to keep the most \"confident\" predictions. We select for these by computing the maximum logit value for each token as a proxy. The higher the maximum logit is for a given token, the more \"confident\" it is in its prediction.\n",
    "4. Now, let's select the top-k tokens according to these confidence scores. You get the number of tokens `k` from the generation schedule.\n",
    "5. Sample the token indices from these `k` selected token logits. You should use the `sample_tokens` function from `utils/sampling.py`, and remember to pass the relevant sampling hyperparameters.\n",
    "6. Update the sequence and mask for the next round using the newly sampled tokens and their positions.\n",
    "7. Repeat until the end of the generation schedule, when the sequence is fully unmasked."
   ]
  },
  {
   "cell_type": "markdown",
   "id": "acd64834-6658-4cf1-a88d-aed19c61be1e",
   "metadata": {},
   "source": [
    "### 2.2 Training the model\n",
    "\n",
    "We defined a training config for you in: `cfgs/nanoMaskGIT/mnist_d8w512.yaml`. Please familiarize yourself with all parts.\n",
    "Please don't forget to replace the Weights & Bias entity with your own.\n",
    "\n",
    "On a 1xV100 node, you can start the training like:\n",
    "```\n",
    "OMP_NUM_THREADS=1 torchrun --nproc_per_node=1 run_training.py --config cfgs/nanoMaskGIT/mnist_d8w512.yaml\n",
    "```\n",
    "\n",
    "This training should be pretty fast and only take a few minutes. Because masked image models are harder to overfit, we increased the number of training steps five-fold, compared to nanoGPT. You should reach a final validation loss below 0.57, and your loss curves should look something like the following:\n",
    "\n",
    "<img src=\"./assets/nanoMaskGIT_mnist.png\" alt=\"nanoMaskGIT MNIST loss curves\" width=\"1000\">"
   ]
  },
  {
   "cell_type": "markdown",
   "id": "21a95694-bc7d-4ac5-964a-3e0a0e010d5d",
   "metadata": {},
   "source": [
    "### 2.3 Show your loss curves (10 points)\n",
    "\n",
    "Screenshot your loss curves and show them here. Add the image to the `assets` directory and change the path in the markdown. You will get 10 points for reasonable loss curves (similar to the sample loss curves above).\n",
    "\n",
    "<img src=\"./assets/nano_MaskGIT_my_mnist.png\" alt=\"nanoMaskGIT MNIST loss curves\" width=\"1000\">"
   ]
  },
  {
   "cell_type": "markdown",
   "id": "c7567ebf-ca13-4ad5-a16b-8e2c1df0c935",
   "metadata": {},
   "source": [
    "### 2.4 Evaluating the model (10 points)\n",
    "\n",
    "After you completed the training, load the model with the following cell. You may need to adjust the path if you changed it.\n",
    "You will get 10 points if the outputs look reasonable (similar to the sample outputs provided below).\n",
    "\n",
    "Hint: You can also load intermediate safetensors checkpoints to check the progress during training."
   ]
  },
  {
   "cell_type": "code",
   "execution_count": 3,
   "id": "3fe6e1bb-d198-4f3f-93b1-aed5cf5eb7aa",
   "metadata": {},
   "outputs": [
    {
     "name": "stdout",
     "output_type": "stream",
     "text": [
      "25.174528M parameters\n"
     ]
    }
   ],
   "source": [
    "ckpt_path = './outputs/nanoMaskGIT/mnist_d8w512/checkpoint-final.safetensors'\n",
    "model = load_model_from_safetensors(ckpt_path, device=device)\n",
    "print(f'{model.get_num_params() / 10**6}M parameters')"
   ]
  },
  {
   "cell_type": "markdown",
   "id": "f899e5d6-dd87-4c07-8f40-351c49ff3524",
   "metadata": {},
   "source": [
    "Let's plot some class-conditional generations! We seed the generation by providing the first token, whose index is equal to the number we'd like to generate.\n",
    "For that token, we initialize the mask with `False`, i.e. indicating that that token is given as input, i.e. not masked. \n",
    "The rest of the tokens are masked, and it does not matter what value they have in the `seq` tensor, as they are overwritten by the learnable mask token in the Transformer."
   ]
  },
  {
   "cell_type": "code",
   "execution_count": 4,
   "id": "0e298bb3-535f-4f70-90f4-0e8af217c0c2",
   "metadata": {},
   "outputs": [
    {
     "data": {
      "text/plain": [
       "tensor([[ 5, 10, 10, 10, 10, 10, 10, 10, 10, 10, 10, 13, 13, 12, 10, 10, 10, 10,\n",
       "         10, 10, 10, 10, 10, 10, 14, 13, 10, 10, 10, 10, 10, 10, 10, 20, 10, 10,\n",
       "         10, 11, 13, 16, 18, 10, 10, 10, 10, 10, 10, 10, 10, 10]],\n",
       "       device='cuda:0')"
      ]
     },
     "execution_count": 4,
     "metadata": {},
     "output_type": "execute_result"
    }
   ],
   "source": [
    "label = 5\n",
    "\n",
    "seq = torch.zeros(50, dtype=torch.long, device=device)\n",
    "mask = torch.ones(50, dtype=torch.bool, device=device)\n",
    "seq[0] = label\n",
    "mask[0] = False\n",
    "\n",
    "output = model.generate(seq, mask, num_steps=8, temp=1.0, top_p=0.9, return_history=False)\n",
    "output"
   ]
  },
  {
   "cell_type": "code",
   "execution_count": 5,
   "id": "7f7d1cde-f9ae-4bc8-b66f-cc6a89346721",
   "metadata": {},
   "outputs": [
    {
     "data": {
      "text/plain": [
       "<matplotlib.image.AxesImage at 0x7ffa1ce50c10>"
      ]
     },
     "execution_count": 5,
     "metadata": {},
     "output_type": "execute_result"
    },
    {
     "data": {
      "image/png": "[encoded data removed]",
      "text/plain": [
       "<Figure size 640x480 with 1 Axes>"
      ]
     },
     "metadata": {},
     "output_type": "display_data"
    }
   ],
   "source": [
    "reconst = detokenize_MNIST(output, patch_size=2, account_for_labels=True).cpu()\n",
    "plt.imshow(reconst[0], cmap='gray_r')"
   ]
  },
  {
   "cell_type": "markdown",
   "id": "88da2fcd-f7cc-479a-8124-c7c52f0e0332",
   "metadata": {},
   "source": [
    "Let's now generate 10 random samples for all 10 classes. Most should look quite reasonable."
   ]
  },
  {
   "cell_type": "code",
   "execution_count": 6,
   "id": "0a37a578-6b9f-4a62-bc36-bb9345c3b38c",
   "metadata": {},
   "outputs": [
    {
     "data": {
      "image/png": "[encoded data removed]",
      "text/plain": [
       "<Figure size 800x800 with 200 Axes>"
      ]
     },
     "metadata": {},
     "output_type": "display_data"
    }
   ],
   "source": [
    "def generate_samples(model, num_steps=8, temp=1.0, top_p=0.0, top_k=0.0, n_samples=10):\n",
    "    fig = plt.figure(figsize=(8., 8.))\n",
    "    grid = ImageGrid(fig, 111, nrows_ncols=(10, n_samples), axes_pad=0.1)\n",
    "    for label in range(10):\n",
    "        for sample_idx in range(n_samples):\n",
    "            grid_idx = label * n_samples + sample_idx\n",
    "            \n",
    "            seq = torch.zeros(50, dtype=torch.long, device=device)\n",
    "            mask = torch.ones(50, dtype=torch.bool, device=device)\n",
    "            seq[0] = label\n",
    "            mask[0] = False\n",
    "            output = model.generate(seq, mask, num_steps=num_steps, temp=temp, top_p=top_p, top_k=top_k, return_history=False)\n",
    "            \n",
    "            reconst = detokenize_MNIST(output, patch_size=2, account_for_labels=True).cpu()\n",
    "            grid[grid_idx].imshow(reconst[0], cmap='Greys', vmin=0, vmax=1)\n",
    "    plt.show()\n",
    "    \n",
    "generate_samples(model, num_steps=8, temp=0.7, top_p=0.9, top_k=0.0)"
   ]
  },
  {
   "cell_type": "markdown",
   "id": "c7c77608-5cb3-4f7e-9ffc-fd36aef83cdb",
   "metadata": {},
   "source": [
    "### 2.5 Open-ended questions (10 points each)\n",
    "\n",
    "Please answer the following questions. You may use additional cells to demonstrate your answers if necessary."
   ]
  },
  {
   "cell_type": "markdown",
   "id": "3c2ae3d6-ddaa-44d9-b5d8-9748a2ec3b5f",
   "metadata": {},
   "source": [
    "#### 2.5.1 Intermediate generation steps\n",
    "\n",
    "`model.generate` has an optional flag `return_history`. Show the intermediate generation steps. What do you observe?"
   ]
  },
  {
   "cell_type": "code",
   "execution_count": 7,
   "id": "d5015471-fa5b-41bc-a190-ed5930e2d0a1",
   "metadata": {},
   "outputs": [
    {
     "data": {
      "image/png": "[encoded data removed]",
      "text/plain": [
       "<Figure size 800x800 with 180 Axes>"
      ]
     },
     "metadata": {},
     "output_type": "display_data"
    }
   ],
   "source": [
    "def generate_with_history_plot(num_steps=8, threshold = 12):\n",
    "    up_bound = 10\n",
    "    total_samples = num_steps + 1\n",
    "\n",
    "    if total_samples > threshold:\n",
    "        num_display = threshold\n",
    "        selected_indices = [\n",
    "            int(round(i * (total_samples - 1) / (num_display - 1)))\n",
    "            for i in range(num_display)\n",
    "        ]\n",
    "    else:\n",
    "        selected_indices = list(range(total_samples))\n",
    "        \n",
    "    #print(selected_indices)\n",
    "    n_samples = len(selected_indices)\n",
    "    \n",
    "    fig = plt.figure(figsize=(8., 8.))\n",
    "    grid = ImageGrid(fig, 111, nrows_ncols=(up_bound, n_samples), axes_pad=0.1)\n",
    "\n",
    "    for label in range(0,up_bound):\n",
    "        seq = torch.zeros(50, dtype=torch.long, device=device)\n",
    "        mask = torch.ones(50, dtype=torch.bool, device=device)\n",
    "        seq[0] = label\n",
    "        mask[0] = False\n",
    "        output,masked = model.generate(seq, mask, num_steps=num_steps, temp=1.0, top_p=0.9, return_history=True)\n",
    "        reconst = detokenize_MNIST(output, patch_size=2, account_for_labels=True).cpu()\n",
    "\n",
    "        for col_idx, step_idx in enumerate(selected_indices):\n",
    "            grid_idx = label * n_samples + col_idx\n",
    "            grid[grid_idx].imshow(reconst[step_idx], cmap='Greys', vmin=0, vmax=1)\n",
    "            grid[grid_idx].set_xticks([])\n",
    "            grid[grid_idx].set_yticks([])\n",
    "\n",
    "        \n",
    "            if label == up_bound - 1:\n",
    "                grid[grid_idx].set_xlabel(f\"Step = {step_idx}\", fontsize=6)\n",
    "\n",
    "generate_with_history_plot()"
   ]
  },
  {
   "cell_type": "markdown",
   "id": "0cdb60ba-521e-43cd-9c01-c94507740fa4",
   "metadata": {},
   "source": [
    "#### 2.5.2 Number of inference steps\n",
    "\n",
    "With MaskGIT, we can freely choose the number of inference steps `k`. We default to `k=8`, but how does generation with `k` = 1, 4, 8, 16, 32, 49 perform? What do you observe?"
   ]
  },
  {
   "cell_type": "code",
   "execution_count": 8,
   "id": "ba08d6c1-4570-4d92-ade9-c59a4e8fc308",
   "metadata": {},
   "outputs": [
    {
     "data": {
      "image/png": "[encoded data removed]",
      "text/plain": [
       "<Figure size 800x800 with 40 Axes>"
      ]
     },
     "metadata": {},
     "output_type": "display_data"
    },
    {
     "data": {
      "image/png": "[encoded data removed]",
      "text/plain": [
       "<Figure size 800x800 with 100 Axes>"
      ]
     },
     "metadata": {},
     "output_type": "display_data"
    },
    {
     "data": {
      "image/png": "[encoded data removed]",
      "text/plain": [
       "<Figure size 800x800 with 180 Axes>"
      ]
     },
     "metadata": {},
     "output_type": "display_data"
    },
    {
     "data": {
      "image/png": "[encoded data removed]",
      "text/plain": [
       "<Figure size 800x800 with 240 Axes>"
      ]
     },
     "metadata": {},
     "output_type": "display_data"
    },
    {
     "data": {
      "image/png": "[encoded data removed]",
      "text/plain": [
       "<Figure size 800x800 with 240 Axes>"
      ]
     },
     "metadata": {},
     "output_type": "display_data"
    },
    {
     "data": {
      "image/png": "[encoded data removed]",
      "text/plain": [
       "<Figure size 800x800 with 240 Axes>"
      ]
     },
     "metadata": {},
     "output_type": "display_data"
    }
   ],
   "source": [
    "ks = [1, 4, 8, 16, 32, 49]\n",
    "for k in ks: \n",
    "    generate_with_history_plot(num_steps =k)"
   ]
  },
  {
   "cell_type": "markdown",
   "id": "f6959e3e-6682-4b9e-afd4-d20362086f58",
   "metadata": {
    "tags": []
   },
   "source": [
    "---\n",
    "\n",
    "## 3 Training nanoGPT on TinyStories\n",
    "\n",
    "Masked generation is quite common for image generation, but has seen a recent resurgence for language models too (e.g. see [LLaDA](https://ml-gsai.github.io/LLaDA-demo/)). \n",
    "Let's run a little experiment and train a masked model on TinyStories, just as we did with nanoGPT."
   ]
  },
  {
   "cell_type": "markdown",
   "id": "074f284f-4ffb-4611-98c1-302b09cd516a",
   "metadata": {},
   "source": [
    "### 3.1 Loading the tokenizer and helper functions"
   ]
  },
  {
   "cell_type": "code",
   "execution_count": 9,
   "id": "c9aa2c0e-71af-4d51-9716-9ab4ca17f459",
   "metadata": {},
   "outputs": [
    {
     "data": {
      "text/plain": [
       "GPT2TokenizerFast(name_or_path='gpt2', vocab_size=50257, model_max_length=1024, is_fast=True, padding_side='right', truncation_side='right', special_tokens={'bos_token': '[SOS]', 'eos_token': '[EOS]', 'unk_token': '<|endoftext|>', 'pad_token': '[PAD]'}, clean_up_tokenization_spaces=False, added_tokens_decoder={\n",
       "\t50256: AddedToken(\"<|endoftext|>\", rstrip=False, lstrip=False, single_word=False, normalized=True, special=True),\n",
       "\t50257: AddedToken(\"[PAD]\", rstrip=False, lstrip=False, single_word=False, normalized=False, special=True),\n",
       "\t50258: AddedToken(\"[SOS]\", rstrip=False, lstrip=False, single_word=False, normalized=False, special=True),\n",
       "\t50259: AddedToken(\"[EOS]\", rstrip=False, lstrip=False, single_word=False, normalized=False, special=True),\n",
       "}\n",
       ")"
      ]
     },
     "execution_count": 9,
     "metadata": {},
     "output_type": "execute_result"
    }
   ],
   "source": [
    "# Load the GPT-2 tokenizer\n",
    "tokenizer = AutoTokenizer.from_pretrained(\"gpt2\", trust_remote_code=True)\n",
    "\n",
    "# Add padding, start-of-sequence, and end-of-sequence tokens\n",
    "tokenizer.add_special_tokens({'pad_token': '[PAD]'})\n",
    "tokenizer.add_special_tokens({\n",
    "    'bos_token': '[SOS]',\n",
    "    'eos_token': '[EOS]',\n",
    "})\n",
    "tokenizer._tokenizer.post_processor = TemplateProcessing(\n",
    "    single=\"[SOS] $A [EOS]\",\n",
    "    special_tokens=[('[EOS]', tokenizer.eos_token_id), ('[SOS]', tokenizer.bos_token_id)],\n",
    ")\n",
    "tokenizer"
   ]
  },
  {
   "cell_type": "code",
   "execution_count": 10,
   "id": "08407185-c1f8-48fe-9bc8-5b0d35c33e30",
   "metadata": {},
   "outputs": [],
   "source": [
    "def token_ids_to_text(token_ids, text_tokenizer):\n",
    "    \"\"\" Helper function to turn token sequences back to well-formatted text. \"\"\"\n",
    "    decoded = text_tokenizer.decode(token_ids)\n",
    "    # Remove [SOS], [EOS], and [PAD] tokens along with surrounding horizontal whitespace only.\n",
    "    decoded = re.sub(r'[ \\t]*\\[(SOS|EOS|PAD)\\][ \\t]*', ' ', decoded)\n",
    "    # Collapse extra horizontal spaces in each line without touching newline characters.\n",
    "    decoded = '\\n'.join([re.sub(r'[ \\t]+', ' ', line).strip() for line in decoded.splitlines()])\n",
    "    return decoded"
   ]
  },
  {
   "cell_type": "markdown",
   "id": "846e1ee7-7805-42ca-a5f7-7a9f45dadb9e",
   "metadata": {},
   "source": [
    "### 3.2 Training the model\n",
    "\n",
    "We defined a training config for you in: `cfgs/nanoMaskGIT/tinystories_d8w512.yaml`. Please familiarize yourself with all parts.\n",
    "Please don't forget to replace the Weights & Bias entity with your own.\n",
    "\n",
    "On a 2xV100 node, you can start the training like:\n",
    "```\n",
    "OMP_NUM_THREADS=1 torchrun --nproc_per_node=2 run_training.py --config cfgs/nanoMaskGIT/tinystories_d8w512.yaml\n",
    "```\n",
    "\n",
    "This training should take over one hour. You should reach a final validation loss around 2.05, and your loss curves should look something like the following:\n",
    "\n",
    "<img src=\"./assets/nanoMaskGIT_tinystories.png\" alt=\"nanoMaskGIT TinyStories loss curves\" width=\"1000\">"
   ]
  },
  {
   "cell_type": "markdown",
   "id": "b148e772-641d-401f-8759-d470913c07a8",
   "metadata": {},
   "source": [
    "### 3.3 Show your loss curves (10 points)\n",
    "\n",
    "Screenshot your loss curves and show them here. Add the image to the `assets` directory and change the path in the markdown. You will get 10 points for reasonable loss curves (similar to the sample loss curves above).\n",
    "\n",
    "<img src=\"./assets/nanoMaskGIT_my_tinystories.png\" alt=\"nanoMaskGIT TinyStories loss curves\" width=\"1000\">"
   ]
  },
  {
   "cell_type": "markdown",
   "id": "ae662ed8-4d89-419f-9419-72dfe1539a8b",
   "metadata": {},
   "source": [
    "### 3.4 Evaluating the model (10 points)\n",
    "\n",
    "After you completed the training, load the model with the following cell. You may need to adjust the path if you changed it.\n",
    "You will get 10 points if the outputs look reasonable (similar to the sample outputs provided below).\n",
    "\n",
    "Hint: You can also load intermediate safetensors checkpoints to check the progress during training."
   ]
  },
  {
   "cell_type": "code",
   "execution_count": 11,
   "id": "461ee865-a0a8-47d1-ac34-577a16c77fcf",
   "metadata": {},
   "outputs": [
    {
     "name": "stdout",
     "output_type": "stream",
     "text": [
      "25.174528M parameters\n"
     ]
    }
   ],
   "source": [
    "ckpt_path = './outputs/nanoMaskGIT/tinystories_d8w512/checkpoint-final.safetensors'\n",
    "model = load_model_from_safetensors(ckpt_path, device=device)\n",
    "print(f'{model.get_num_params() / 10**6}M parameters')"
   ]
  },
  {
   "cell_type": "markdown",
   "id": "14b76935-50bd-4467-b72d-30955eb516b7",
   "metadata": {},
   "source": [
    "Let's generate some random (unconditional) stories!"
   ]
  },
  {
   "cell_type": "code",
   "execution_count": 12,
   "id": "af25761c-ae44-4e67-8c77-505d6be35a9e",
   "metadata": {},
   "outputs": [
    {
     "name": "stdout",
     "output_type": "stream",
     "text": [
      "Once upon a time there there lived a humble rabbit named Benny. Bob loved to hop around all field and his pet. One day, Benny's friend Benny came across to a him. him didn big and.\n",
      "didn't like it. So wanted to take his friend but Sammy wasn't didn't do.\n",
      "told Benny he didn never make to be so big and strong because he was stronger he was stronger and\n",
      "\n",
      "BobBenny was to let why Sam didn't do it. He also said to Sam friends, \"I's not enough to!\" Sammy knew he was having special, him was very selfish and let Bob have a bite\".\n",
      "\n",
      "Sam understood what he was so angry. decided to would get sorry too She asked, \"Why should't take Sam. You will think about things and is friendly too!\" He explained, \"This is better to you, okay!\"\n",
      "\n",
      "Billy and Sam realized he was the right thing, but he couldn't do what when Sammy started to cry to Eventually, they both to Sammy's house, Sammy was so impressed the carrots he had. He was so happy, he had allowed Billy and help his friend. And from then on, they had fun together every day.\n",
      "\n",
      "The end.\n",
      "\n",
      "--------------------------------------------------\n",
      "\n",
      "L upon a time, was a friends called Katie. Every day the other was very fun. play was but do wanted it do it. Suddenly, Katie saw a piece of gum in the garden. Her mom said told Katie it is taste good gum - She was it would try her best. Katie\n",
      "\n",
      "But Katie, no. \"That's not sweet!\" she mom explained. The did not for you, like it!\" Katie\n",
      "\n",
      "Katie liked her gum, she wanted a tasty! She did not only eat it. This made Katie feel sour, it it made smelly when she showed her teeth to the other. Katie\n",
      "The she frowned and said, \"No Mom\". She was mad, so Kay tried to explain her mom that not to eat some either and time.\n",
      "\n",
      "So Katie tried to learn how to make her own. into a kind face, Katie's face words. She was again. Then, she would try out that. Mommy how about the smelly gum that tastes, so sometimes that it doesn't taste better without the gum.\n",
      "\n",
      "Katie accepted the gum for her help and she enjoyed eating the gum. She even enjoyed playing with her mom, and she always kept the sound of the tasty gum soon.\n",
      "\n",
      "--------------------------------------------------\n",
      "\n",
      "Once was was a nice bald man\n",
      "\n",
      "--------------------------------------------------\n",
      "\n",
      "Once upon a time there was a boy car. Every day, it would ride and have and take its freedom. So day the raced and the car drove fast into the fields and started to a wild. Everywhere was back, everything was wild.\n",
      "\n",
      "Then one day, he heard something unusual. It was the only place-� when the had never a big or a dog! the car looked up from the trees and saw it was filled with black stripes. It was he had to go a fun adventure!\n",
      "He quickly so fast as he could and the bright he could the wild, trees he knew it had But,, the, blue and orange was safe.\n",
      "The boy was scared, but excited followed the car. After a while, he spotted the funny. It a ball, yellow was orange at the end. to him from tree and was not to squeeze it. the dog thanked the sun and drove away into the wild wildadow.\n",
      "\n",
      "The boy hopped out of a tree and he started big smile! The dog smiled and said, \"Please come with me. I'll stay with me.\" The boy felt so scared but excited he replied, \"I always know a good time into a wonderful rest of this wild day\n",
      "\n",
      "--------------------------------------------------\n",
      "\n",
      "Once day, Jack and his dad went to a park. the sun was filled with warm sun and they birds were happy.\n",
      "\n",
      "--------------------------------------------------\n",
      "\n"
     ]
    }
   ],
   "source": [
    "for _ in range(5):\n",
    "    seq = torch.zeros(256, dtype=torch.long, device=device)\n",
    "    mask = torch.ones(256, dtype=torch.bool, device=device)\n",
    "    output = model.generate(seq, mask, num_steps=128, temp=1.0, top_k=100, return_history=False)\n",
    "    print(token_ids_to_text(output[0], text_tokenizer=tokenizer))\n",
    "    print('\\n' + '-'*50 + '\\n')"
   ]
  },
  {
   "cell_type": "markdown",
   "id": "00cb8ab8-0a6b-446c-af41-acacf2c584cd",
   "metadata": {},
   "source": [
    "### 3.5 Open-ended questions (10 points each)\n",
    "\n",
    "Please answer the following questions. You may use additional cells to demonstrate your answers if necessary."
   ]
  },
  {
   "cell_type": "markdown",
   "id": "8f3c1f71-4a23-4eb9-8f06-2854fc66b480",
   "metadata": {},
   "source": [
    "#### 3.5.1 Intermediate generation steps\n",
    "\n",
    "Similar as in 2.5.1, `model.generate` has an optional flag `return_history`. Show the intermediate generation steps. What do you observe?"
   ]
  },
  {
   "cell_type": "code",
   "execution_count": 32,
   "id": "1d5a974f-773a-4851-a3d4-f3ded2a45022",
   "metadata": {
    "scrolled": true
   },
   "outputs": [
    {
     "name": "stdout",
     "output_type": "stream",
     "text": [
      "!!!!!!!!!!!!!!!!!!!!!!!!!!!!!!!!!!!!!!!!!!!!!!!!!!!!!!!!!!!!!!!!!!!!!!!!!!!!!!!!!!!!!!!!!!!!!!!!!!!!!!!!!!!!!!!!!!!!!!!!!!!!!!!!!!!!!!!!!!!!!!!!!!!!!!!!!!!!!!!!!!!!!!!!!!!!!!!!!!!!!!!!!!!!!!!!!!!!!!!!!!!!!!!!!!!!!!!!!!!!!!!!!!!!!!!!!!!!!!!!!!!!!!!!!!!!!!!!\n",
      "\n",
      "--------------------------------------------------\n",
      "\n",
      "Once upon!!!!!!!!!!!!!!!!!!!!!!!!!!!!!!!!!!!!!!!!!!!!!!!!!!!!!!!!!!!!!!!!!!!!!!!!!!!!!!!!!!!!!!!!!!!!!!!!!!!!!!!!!!!!!!!!!!!!!!!!!!!!!!!!!!!!!!!!!!!!!!!!!!!!!!!!!!!!!!!!!!!!!!!!!!!!!!!!!!!!!!!!!!!!!!!!!!!!!!!!!!!!!!!!!!!!!!!!!!!!!!!!!!!!!!!!!!!!!!!!!!!!!!!!!!!!!!\n",
      "\n",
      "--------------------------------------------------\n",
      "\n",
      "Once upon a time!!!!!!!!!!!!!!!!!!!!!!!!!!!!!!!!!!!!!!!!!!!!!!!!!!!!!!!!!!!!!!!!!!!!!!!!!!!!!!!!!!!!!!!!!!!!!!!!!!!!!!!!!!!!!!!!!!!!!!!!!!!!!!!!!!!!!!!!!!!!!!!!!!!!!!!!!!!!!!!!!!!!!!!!!!!!!!!!!!!!!!!!!!!!!!!!!!!!!!!!!!!!!!!!!!!!!!!!!!!!!!!!!!!!!!!!!!!!!!!!!!!!!!!!!!!!\n",
      "\n",
      "--------------------------------------------------\n",
      "\n",
      "Once upon a time, there!!!!!!!!!!!!!!!!!!!!!!!!!!!!!!!!!!!!!!!!!!!!!!!!!!!!!!!!!!!!!!!!!!!!!!!!!!!!!!!!!!!!!!!!!!!!!!!!!!!!!!!!!!!!!!!!!!!!!!!!!!!!!!!!!!!!!!!!!!!!!!!!!!!!!!!!!!!!!!!!!!!!!!!!!!!!!!!!!!!!!!!!!!!!!!!!!!!!!!!!!!!!!!!!!!!!!!!!!!!!!!!!!!!!!!!!!!!!!!!!!!!!!!!!!!\n",
      "\n",
      "--------------------------------------------------\n",
      "\n",
      "Once upon a time, there was a!!!!!!!!!!!!!!!!!!!!!!!!!!!!!!!!!!!!!!!!!!!!!!!!!!!!!!!!!!!!!!!!!!!!!!!!!!!!!!!!!!!!!!!!!!!!!!!!!!!!!!!!!!!!!!!!!!!!!!!!!!!!!!!!!!!!!!!!!!!!!!!!!!!!!!!!!!!!!!!!!!!!!!!!!!!!!!!!!!!!!!!!!!!!!!!!!!!!!!!!!!!!!!!!!!!!!!!!!!!!!!!!!!!!!!!!!!!!!!!!!!!!!!!!\n",
      "\n",
      "--------------------------------------------------\n",
      "\n",
      "Once upon a time, there was a nos! named!!!!!!!!!!!!!!!!!!!!!!!!!!!!!!!!!!!!!!!!!!!!!!!!!!!!!!!!!!!!!!!!!!!!!!!!!!!!!!!!!!!!!!!!!!!!!!!!!!!!!!!!!!!!!!!!!!!!!!!!!!!!!!!!!!!!!!!!!!!!!!!!!!!!!!!!!!!!!!!!!!!!!!!!!!!!!!!!!!!!!!!!!!!!!!!!!!!!!!!!!!!!!!!!!!!!!!!!!!!!!!!!!!!!!!!!!!!!!!!!!!!!!\n",
      "\n",
      "--------------------------------------------------\n",
      "\n",
      "Once upon a time, there was a nosy named! who!!!!!!!!!!!!!!!!!!!!!!!!!!!!!!!!!!!!!!!!!!!!!!!!!!!!!!!!!!!!!!!!!!!!!!!!!!!!!!!!!!!!!!!!!!!!!!!!!!!!!!!!!!!!!!!!!!!!!!!!!!!!!!!!!!!!!!!!!!!!!!!!!!!!!!!!!!!!!!!!!!!!!!!!!!!!!!!!!!!!!!!!!!!!!!!!!!!!!!!!!!!!!!!!!!!!!!!!!!!!!!!!!!!!!!!!!!!!!!!!!!!\n",
      "\n",
      "--------------------------------------------------\n",
      "\n",
      "Once upon a time, there was a nosy named! who was to!!!!!!!!!!!!!!!!!!!!!!!!!!!!!!!!!!!!!!!!!!!!!!!!!!!!!!!!!!!!!!!!!!!!!!!!!!!!!!!!!!!!!!!!!!!!!!!!!!!!!!!!!!!!!!!!!!!!!!!!!!!!!!!!!!!!!!!!!!!!!!!!!!!!!!!!!!!!!!!!!!!!!!!!!!!!!!!!!!!!!!!!!!!!!!!!!!!!!!!!!!!!!!!!!!!!!!!!!!!!!!!!!!!!!!!!!!!!!!!!!\n",
      "\n",
      "--------------------------------------------------\n",
      "\n",
      "Once upon a time, there was a nosy named! who was to!!!!!!!!!!!!!!!!!!!!!!!!!!!!!!!!!!!!!!!!!!!!!!!!!!!!!!!!!!!!!!!!!!!!!!!!!!!!!!!!!!!!!!!!!!!!!!!!!!!!!!!!!!!!!!!!!!!!!!!!!!!!!!!!!!!!!!!!!!!!!!!!!!!!!!!!!!!!!!!!!!!!!!!!!!!!!!!!!!!!!!!!!!!!!!!!!!!!!!!!!!!!!!!!!!!!!!!!!!!!!!!!!!!!!!!!!!! !!! !\n",
      "\n",
      "--------------------------------------------------\n",
      "\n",
      "Once upon a time, there was a nosy named! who was to!!!!!!!!!!!!!!!!!!!!!!!!!!!!!!!!!!!!!!!!!!!!!!!!!!!!!!!!!!!!!!!!!!!!!!!!!!!!!!!!!!!!!!!!!!!!!!!!!!!!!!!!!!!!!!!!!!!!!!!!!!!!!!!!!!!!!!!!!!!!!!!!!!!!!!!!!!!!!!!!!!!!!!!!!!!!!!!!!!!!!!!!!!!!!!!!!!!!!!!!!!!!!!!!!!!!!!!!!!!!!!!!!!!!!!!!!!! ! !\n",
      "\n",
      "--------------------------------------------------\n",
      "\n",
      "Once upon a time, there was a nosy named! who was to!!!!!!!!!!!!!!!!!!!!!!!!!!!!!!!!!!!!!!!!!!!!!!!!!!!!!!!!!!!!!!!!!!!!!!!!!!!!!!!!!!!!!!!!!!!!!!!!!!!!!!!!!!!!!!!!!!!!!!!!!!!!!!!!!!!!!!!!!!!!!!!!!!!!!!!!!!!!!!!!!!!!!!!!!!!!!!!!!!!!!!!!!!!!!!!!!!!!!!!!!!!!!!!!!!!!!!!!!!!!!!!!!!!!!!!!!!!\n",
      "\n",
      "--------------------------------------------------\n",
      "\n",
      "Once upon a time, there was a nosy named! who was to!!!!!!!!!!!!!!!!!!!!!!!!!!!!!!!!!!!!!!!!!!!!!!!!!!!!!!!!!!!!!!!!!!!!!!!!!!!!!!!!!!!!!!!!!!!!!!!!!!!!!!!!!!!!!!!!!!!!!!!!!!!!!!!!!!!!!!!!!!!!!!!!!!!!!!!!!!!!!!!!!!!!!!!!!!!!!!!!!!!!!!!!!!!!!!!!!!!!!!!!!!!!!!!!!!!!!!!!!!!!!!!!!!!!!!!! !\n",
      "\n",
      "--------------------------------------------------\n",
      "\n",
      "Once upon a time, there was a nosy named! who was to!!!!!!!!!!!!!!!!!!!!!!!!!!!!!!!!!!!!!!!!!!!!!!!!!!!!!!!!!!!!!!!!!!!!!!!!!!!!!!!!!!!!!!!!!!!!!!!!!!!!!!!!!!!!!!!!!!!!!!!!!!!!!!!!!!!!!!!!!!!!!!!!!!!!!!!!!!!!!!!!!!!!!!!!!!!!!!!!!!!!!!!!!!!!!!!!!!!!!!!!!!!!!!!!!!!!!!!!!!!!!!!!!!!!!!!\n",
      "\n",
      "--------------------------------------------------\n",
      "\n",
      "Once upon a time, there was a nosy named! who was to!!!!!!!!!!!!!!!!!!!!!!!!!!!!!!!!!!!!!!!!!!!!!!!!!!!!!!!!!!!!!!!!!!!!!!!!!!!!!!!!!!!!!!!!!!!!!!!!!!!!!!!!!!!!!!!!!!!!!!!!!!!!!!!!!!!!!!!!!!!!!!!!!!!!!!!!!!!!!!!!!!!!!!!!!!!!!!!!!!!!!!!!!!!!!!!!!!!!!!!!!!!!!!!!!!!!!!!!!!!!!!!!!!!! !\n",
      "\n",
      "--------------------------------------------------\n",
      "\n",
      "Once upon a time, there was a nosy named! who was to!!!!!!!!!!!!!!!!!!!!!!!!!!!!!!!!!!!!!!!!!!!!!!!!!!!!!!!!!!!!!!!!!!!!!!!!!!!!!!!!!!!!!!!!!!!!!!!!!!!!!!!!!!!!!!!!!!!!!!!!!!!!!!!!!!!!!!!!!!!!!!!!!!!!!!!!!!!!!!!!!!!!!!!!!!!!!!!!!!!!!!!!!!!!!!!!!!!!!!!!!!!!!!!!!!!!!!!!!!!!!!!!!!!\n",
      "\n",
      "--------------------------------------------------\n",
      "\n",
      "Once upon a time, there was a nosy named! who was to!!!!!!!!!!!!!!!!!!!!!!!!!!!!!!!!!!!!!!!!!!!!!!!!!!!!!!!!!!!!!!!!!!!!!!!!!!!!!!!!!!!!!!!!!!!!!!!!!!!!!!!!!!!!!!!!!!!!!!!!!!!!!!!!!!!!!!!!!!!!!!!!!!!!!!!!!!!!!!!!!!!!!!!!!!!!!!!!!!!!!!!!!!!!!!!!!!!!!!!!!!!!!!!!!!!!!!!!!!!!!!!! !\n",
      "\n",
      "--------------------------------------------------\n",
      "\n",
      "Once upon a time, there was a nosy named! who was to!!!!!!!!!!!!!!!!!!!!!!!!!!!!!!!!!!!!!!!!!!!!!!!!!!!!!!!!!!!!!!!!!!!!!!!!!!!!!!!!!!!!!!!!!!!!!!!!!!!!!!!!!!!!!!!!!!!!!!!!!!!!!!!!!!!!!!!!!!!!!!!!!!!!!!!!!!!!!!!!!!!!!!!!!!!!!!!!!!!!!!!!!!!!!!!!!!!!!!!!!!!!!!!!!!!!!!!!!!!!!!!\n",
      "\n",
      "--------------------------------------------------\n",
      "\n",
      "Once upon a time, there was a nosy named! who was to!!!!!!!!!!!!!!!!!!!!!!!!!!!!!!!!!!!!!!!!!!!!!!!!!!!!!!!!!!!!!!!!!!!!!!!!!!!!!!!!!!!!!!!!!!!!!!!!!!!!!!!!!!!!!!!!!!!!!!!!!!!!!!!!!!!!!!!!!!!!!!!!!!!!!!!!!!!!!!!!!!!!!!!!!!!!!!!!!!!!!!!!!!!!!!!!!!!!!!!!!!!!!!!!!!!!!!!!!!!!!\n",
      "\n",
      "--------------------------------------------------\n",
      "\n",
      "Once upon a time, there was a nosy named! who was to!!!!!!!!!!!!!!!!!!!!!!!!!!!!!!!!!!!!!!!!!!!!!!!!!!!!!!!!!!!!!!!!!!!!!!!!!!!!!!!!!!!!!!!!!!!!!!!!!!!!!!!!!!!!!!!!!!!!!!!!!!!!!!!!!!!!!!!!!!!!!!!!!!!!!!!!!!!!!!!!!!!!!!!!!!!!!!!!!!!!!!!!!!!!!!!!!!!!!!!!!!!!!!!!!!!!!!!!!! !\n",
      "\n",
      "--------------------------------------------------\n",
      "\n",
      "Once upon a time, there was a nosy named! who was to!!!!!!!!!!!!!!!!!!!!!!!!!!!!!!!!!!!!!!!!!!!!!!!!!!!!!!!!!!!!!!!!!!!!!!!!!!!!!!!!!!!!!!!!!!!!!!!!!!!!!!!!!!!!!!!!!!!!!!!!!!!!!!!!!!!!!!!!!!!!!!!!!!!!!!!!!!!!!!!!!!!!!!!!!!!!!!!!!!!!!!!!!!!!!!!!!!!!!!!!!!!!!!!!!!!!!!!!!\n",
      "\n",
      "--------------------------------------------------\n",
      "\n",
      "Once upon a time, there was a nosy named! who was to!!!!!!!!!!!!!!!!!!!!!!!!!!!!!!!!!!!!!!!!!!!!!!!!!!!!!!!!!!!!!!!!!!!!!!!!!!!!!!!!!!!!!!!!!!!!!!!!!!!!!!!!!!!!!!!!!!!!!!!!!!!!!!!!!!!!!!!!!!!!!!!!!!!!!!!!!!!!!!!!!!!!!!!!!!!!!!!!!!!!!!!!!!!!!!!!!!!!!!!!!!!!!!!!!!!!!!!\n",
      "\n",
      "--------------------------------------------------\n",
      "\n",
      "Once upon a time, there was a nosy named! who was to!!!!!!!!!!!!!!!!!!!!!!!!!!!!!!!!!!!!!!!!!!!!!!!!!!!!!!!!!!!!!!!!!!!!!!!!!!!!!!!!!!!!!!!!!!!!!!!!!!!!!!!!!!!!!!!!!!!!!!!!!!!!!!!!!!!!!!!!!!!!!!!!!!!!!!!!!!!!!!!!!!!!!!!!!!!!!!!!!!!!!!!!!!!!!!!!!!!!!!!!!!!!!!!!!!!! !\n",
      "\n",
      "--------------------------------------------------\n",
      "\n",
      "Once upon a time, there was a nosy named! who was to!!!!!!!!!!!!!!!!!!!!!!!!!!!!!!!!!!!!!!!!!!!!!!!!!!!!!!!!!!!!!!!!!!!!!!!!!!!!!!!!!!!!!!!!!!!!!!!!!!!!!!!!!!!!!!!!!!!!!!!!!!!!!!!!!!!!!!!!!!!!!!!!!!!!!!!!!!!!!!!!!!!!!!!!!!!!!!!!!!!!!!!!!!!!!!!!!!!!!!!!!!!!!!!!!!!\n",
      "\n",
      "--------------------------------------------------\n",
      "\n",
      "Once upon a time, there was a nosy named! who was to!!!!!!!!!!!!!!!!!!!!!!!!!!!!!!!!!!!!!!!!!!!!!!!!!!!!!!!!!!!!!!!!!!!!!!!!!!!!!!!!!!!!!!!!!!!!!!!!!!!!!!!!!!!!!!!!!!!!!!!!!!!!!!!!!!!!!!!!!!!!!!!!!!!!!!!!!!!!!!!!!!!!!!!!!!!!!!!!!!!!!!!!!!!!!!!!!!!!!!!!!!!!!!!!!\n",
      "\n",
      "--------------------------------------------------\n",
      "\n",
      "Once upon a time, there was a nosy named! who was to!!!!!!!!!!!!!!!!!!!!!!!!!!!!!!!!!!!!!!!!!!!!!!!!!!!!!!!!!!!!!!!!!!!!!!!!!!!!!!!!!!!!!!!!!!!!!!!!!!!!!!!!!!!!!!!!!!!!!!!!!!!!!!!!!!!!!!!!!!!!!!!!!!!!!!!!!!!!!!!!!!!!!!!!!!!!!!!!!!!!!!!!!!!!!!!!!!!!!!!!!!!!!!!\n",
      "\n",
      "--------------------------------------------------\n",
      "\n",
      "Once upon a time, there was a nosy named! who was to!!!!!!!!!!!!!!!!!!!!!!!!!!!!!!!!!!!!!!!!!!!!!!!!!!!!!!!!!!!!!!!!!!!!!!!!!!!!!!!!!!!!!!!!!!!!!!!!!!!!!!!!!!!!!!!!!!!!!!!!!!!!!!!!!!!!!!!!!!!!!!!!!!!!!!!!!!!!!!!!!!!!!!!!!!!!!!!!!!!!!!!!!!!!!!!!!!!!!!!!!!!!!\n",
      "\n",
      "--------------------------------------------------\n",
      "\n",
      "Once upon a time, there was a nosy named! who was to!!!!!!!!!!!!!!!!!!!!!!!!!!!!!!!!!!!!!!!!!!!!!!!!!!!!!!!!!!!!!!!!!!!!!!!!!!!!!!!!!!!!!!!!!!!!!!!!!!!!!!!!!!!!!!!!!!!!!!!!!!!!!!!!!!!!!!!!!!!!!!!!!!!!!!!!!!!!!!!!!!!!!!!!!!!!!!!!!!!!!!!!!!!!!!!!!!!!!!!!!! !\n",
      "\n",
      "--------------------------------------------------\n",
      "\n",
      "Once upon a time, there was a nosy named! who was to!!!!!!!!!!!!!!!!!!!!!!!!!!!!!!!!!!!!!!!!!!!!!!!!!!!!!!!!!!!!!!!!!!!!!!!!!!!!!!!!!!!!!!!!!!!!!!!!!!!!!!!!!!!!!!!!!!!!!!!!!!!!!!!!!!!!!!!!!!!!!!!!!!!!!!!!!!!!!!!!!!!!!!!!!!!!!!!!!!!!!!!!!!!!!!!!!!!!!!!!!\n",
      "\n",
      "--------------------------------------------------\n",
      "\n",
      "Once upon a time, there was a nosy named! who was to!!!!!!!!!!!!!!!!!!!!!!!!!!!!!!!!!!!!!!!!!!!!!!!!!!!!!!!!!!!!!!!!!!!!!!!!!!!!!!!!!!!!!!!!!!!!!!!!!!!!!!!!!!!!!!!!!!!!!!!!!!!!!!!!!!!!!!!!!!!!!!!!!!!!!!!!!!!!!!!!!!!!!!!!!!!!!!!!!!!!!!!!!!!!!!!!!!!!!!!\n",
      "\n",
      "--------------------------------------------------\n",
      "\n",
      "Once upon a time, there was a nosy named! who was to!!!!!!!!!!!!!!!!!!!!!!!!!!!!!!!!!!!!!!!!!!!!!!!!!!!!!!!!!!!!!!!!!!!!!!!!!!!!!!!!!!!!!!!!!!!!!!!!!!!!!!!!!!!!!!!!!!!!!!!!!!!!!!!!!!!!!!!!!!!!!!!!!!!!!!!!!!!!!!!!!!!!!!!!!!!!!!!!!!!!!!!!!!!!!!!! !!!!!\n",
      "\n",
      "--------------------------------------------------\n",
      "\n",
      "Once upon a time, there was a nosy named! who was to!!!!!!!!!!!!!!!!!!!!!!!!!!!!!!!!!!!!!!!!!!!!!!!!!!!!!!!!!!!!!!!!!!!!!!!!!!!!!!!!!!!!!!!!!!!!!!!!!!!!!!!!!!!!!!!!!!!!!!!!!!!!!!!!!!!!!!!!!!!!!!!!!!!!!!!!!!!!!!!!!!!!!!!!!!!!!!!!!!!!!!!!!!!!!!!! !!!\n",
      "\n",
      "--------------------------------------------------\n",
      "\n",
      "Once upon a time, there was a nosy named! who was to!!!!!!!!!!!!!!!!!!!!!!!!!!!!!!!!!!!!!!!!!!!!!!!!!!!!!!!!!!!!!!!!!!!!!!!!!!!!!!!!!!!!!!!!!!!!!!!!!!!!!!!!!!!!!!!!!!!!!!!!!!!!!!!!!!!!!!!!!!!!!!!!!!!!!!!!!!!!!!!!!!!!!!!!!!!!!!!!!!!!!!!!!!!!!!!! !\n",
      "\n",
      "--------------------------------------------------\n",
      "\n",
      "Once upon a time, there was a nosy named! who was to!!!!!!!!!!!!!!!!!!!!!!!!!!!!!!!!!!!!!!!!!!!!!!!!!!!!!!!!!!!!!!!!!!!!!!!!!!!!!!!!!!!!!!!!!!!!!!!!!!!!!!!!!!!!!!!!!!!!!!!!!!!!!!!!!!!!!!!!!!!!!!!!!!!!!!!!!!!!!!!!!!!!!!!!!!!!!!!!!!!!!!!!!!!!!!!\n",
      "\n",
      "--------------------------------------------------\n",
      "\n",
      "Once upon a time, there was a nosy named! who was to!!!!!!!!!!!!!!!!!!!!!!!!!!!!!!!!!!!!!!!!!!!!!!!!!!!!!!!!!!!!!!!!!!!!!!!!!!!!!!!!!!!!!!!!!!!!!!!!!!!!!!!!!!!!!!!!!!!!!!!!!!!!!!!!!!!!!!!!!!!!!!!!!!!!!!!!!!!!!!!!!!!!!!!!!!!!!!!!!!!!!!!!!!! !!\n",
      "\n",
      "--------------------------------------------------\n",
      "\n",
      "Once upon a time, there was a nosy named! who was to!!!!!!!!!!!!!!!!!!!!!!!!!!!!!!!!!!!!!!!!!!!!!!!!!!!!!!!!!!!!!!!!!!!!!!!!!!!!!!!!!!!!!!!!!!!!!!!!!!!!!!!!!!!!!!!!!!!!!!!!!!!!!!!!!!!!!!!!!!!!!!!!!!!!!!!!!!!!!!!!!!!!!!!!!!!!!!!!!!!!!!!!!!!\n",
      "\n",
      "--------------------------------------------------\n",
      "\n",
      "Once upon a time, there was a nosy named! who was to!!!!!!!!!!!!!!!!!!!!!!!!!!!!!!!!!!!!!!!!!!!!!!!!!!!!!!!!!!!!!!!!!!!!!!!!!!!!!!!!!!!!!!!!!!!!!!!!!!!!!!!!!!!!!!!!!!!!!!!!!!!!!!!!!!!!!!!!!!!!!!!!!!!!!!!!!!!!!!!!!!!!!!!!!!!!!!!!!!!!!!!!!\n",
      "\n",
      "--------------------------------------------------\n",
      "\n",
      "Once upon a time, there was a nosy named! who was to!!!!!!!!!!!!!!!!!!!!!!!!!!!!!!!!!!!!!!!!!!!!!!!!!!!!!!!!!!!!!!!!!!!!!!!!!!!!!!!!!!!!!!!!!!!!!!!!!!!!!!!!!!!!!!!!!!!!!!!!!!!!!!!!!!!!!!!!!!!!!!!!!!!!!!!!!!!!!!!!!!!!!!!!!!!!!!!!!!!!!!!\n",
      "\n",
      "--------------------------------------------------\n",
      "\n",
      "Once upon a time, there was a nosy named! who was to!!!!!!!!!!!!!!!!!!!!!!!!!!!!!!!!!!!!!!!!!!!!!!!!!!!!!!!!!!!!!!!!!!!!!!!!!!!!!!!!!!!!!!!!!!!!!!!!!!!!!!!!!!!!!!!!!!!!!!!!!!!!!!!!!!!!!!!!!!!!!!!!!!!!!!!!!!!!!!!!!!!!!!!!!!!!!!!!!!!!!\n",
      "\n",
      "--------------------------------------------------\n",
      "\n",
      "Once upon a time, there was a nosy named! who was to!!!!!!!!!!!!!!!!!!!!!!!!!!!!!!!!!!!!!!!!!!!!!!!!!!!!!!!!!!!!!!!!!!!!!!!!!!!!!!!!!!!!!!!!!!!!!!!!!!!!!!!!!!!!!!!!!!!!!!!!!!!!!!!!!!!!!!!!!!!!!!!!!!!!!!!!!!!!!!!!!!!!!!!!!!!!!!!!!!!\n",
      "\n",
      "--------------------------------------------------\n",
      "\n",
      "Once upon a time, there was a nosy named! who was to!!!!!!!!!!!!!!!!!!!!!!!!!!!!!!!!!!!!!!!!!!!!!!!!!!!!!!!!!!!!!!!!!!!!!!!!!!!!!!!!!!!!!!!!!!!!!!!!!!!!!!!!!!!!!!!!!!!!!!!!!!!!!!!!!!!!!!!!!!!!!!!!!!!!!!!!!!!!!!!!!!!!!!!!!!!!!!!!!\n",
      "\n",
      "--------------------------------------------------\n",
      "\n",
      "Once upon a time, there was a nosy named! who was to!!!!!!!!!!!!!!!!!!!!!!!!!!!!!!!!!!!!!!!!!!!!!!!!!!!!!!!!!!!!!!!!!!!!!!!!!!!!!!!!!!!!!!!!!!!!!!!!!!!!!!!!!!!!!!!!!!!!!!!!!!!!!!!!!!!!!!!!!!!!!!!!!!!!!!!!!!!!!!!!!!!!!!!!!!!!!!!\n",
      "\n",
      "--------------------------------------------------\n",
      "\n",
      "Once upon a time, there was a nosy named! who was to!!!!!!!!!!!!!!!!!!!!!!!!!!!!!!!!!!!!!!!!!!!!!!!!!!!!!!!!!!!!!!!!!!!!!!!!!!!!!!!!!!!!!!!!!!!!!!!!!!!!!!!!!!!!!!!!!!!!!!!!!!!!!!!!!!!!!!!!!!!!!!!!!!!!!!!!!!!!!!!!!!!!!!!!!!!!!\n",
      "\n",
      "--------------------------------------------------\n",
      "\n",
      "Once upon a time, there was a nosy named! who was to!!!!!!!!!!!!!!!!!!!!!!!!!!!!!!!!!!!!!!!!!!!!!!!!!!!!!!!!!!!!!!!!!!!!!!!!!!!!!!!!!!!!!!!!!!!!!!!!!!!!!!!!!!!!!!!!!!!!!!!!!!!!!!!!!!!!!!!!!!!!!!!!!!!!!!!!!!!!!!!!!!!!!!!!! !!\n",
      "\n",
      "--------------------------------------------------\n",
      "\n",
      "Once upon a time, there was a nosy named! who was to!!!!!!!!!!!!!!!!!!!!!!!!!!!!!!!!!!!!!!!!!!!!!!!!!!!!!!!!!!!!!!!!!!!!!!!!!!!!!!!!!!!!!!!!!!!!!!!!!!!!!!!!!!!!!!!!!!!!!!!!!!!!!!!!!!!!!!!!!!!!!!!!!!!!!!!!!!!!!!!!!!!!!!!!!\n",
      "\n",
      "--------------------------------------------------\n",
      "\n",
      "Once upon a time, there was a nosy named! who was to!!!!!!!!!!!!!!!!!!!!!!!!!!!!!!!!!!!!!!!!!!!!!!!!!!!!!!!!!!!!!!!!!!!!!!!!!!!!!!!!!!!!!!!!!!!!!!!!!!!!!!!!!!!!!!!!!!!!!!!!!!!!!!!!!!!!!!!!!!!!!!!!!!!!!!!!!!!!!!!!!!!!!!!\n",
      "\n",
      "--------------------------------------------------\n",
      "\n",
      "Once upon a time, there was a nosy named! who was to!!!!!!!!!!!!!!!!!!!!!!!!!!!!!!!!!!!!!!!!!!!!!!!!!!!!!!!!!!!!!!!!!!!!!!!!!!!!!!!!!!!!!!!!!!!!!!!!!!!!!!!!!!!!!!!!!!!!!!!!!!!!!!!!!!!!!!!!!!!!!!!!!!!!!!!!!!!!!!!!!!!!!\n",
      "\n",
      "--------------------------------------------------\n",
      "\n",
      "Once upon a time, there was a nosy named! who was to!!!!!!!!!!!!!!!!!!!!!!!!!!!!!!!!!!!!!!!!!!!!!!!!!!!!!!!!!!!!!!!!!!!!!!!!!!!!!!!!!!!!!!!!!!!!!!!!!!!!!!!!!!!!!!!!!!!!!!!!!!!!!!!!!!!!!!!!!!!!!!!!!!!!!!!!!!!!!!!!!!!\n",
      "\n",
      "--------------------------------------------------\n",
      "\n",
      "Once upon a time, there was a nosy named! who was to!!!!!!!!!!!!!!!!!!!!!!!!!!!!!!!!!!!!!!!!!!!!!!!!!!!!!!!!!!!!!!!!!!!!!!!!!!!!!!!!!!!!!!!!!!!!!!!!!!!!!!!!!!!!!!!!!!!!!!!!!!!!!!!!!!!!!!!!!!!!!!!!!!!!!!!!!!!!!!!!!\n",
      "\n",
      "--------------------------------------------------\n",
      "\n",
      "Once upon a time, there was a nosy named! who was to!!!!!!!!!!!!!!!!!!!!!!!!!!!!!!!!!!!!!!!!!!!!!!!!!!!!!!!!!!!!!!!!!!!!!!!!!!!!!!!!!!!!!!!!!!!!!!!!!!!!!!!!!!!!!!!!!!!!!!!!!!!!!!!!!!!!!!!!!!!!!!!!!!!!!!!!! !!!!!!\n",
      "\n",
      "--------------------------------------------------\n",
      "\n",
      "Once upon a time, there was a nosy named! who was to!!!!!!!!!!!!!!!!!!!!!!!!!!!!!!!!!!!!!!!!!!!!!!!!!!!!!!!!!!!!!!!!!!!!!!!!!!!!!!!!!!!!!!!!!!!!!!!!!!!!!!!!!!!!!!!!!!!!!!!!!!!!!!!!!!!!!!!!!!!!!!!!!!!!!!!!! !!!!\n",
      "\n",
      "--------------------------------------------------\n",
      "\n",
      "Once upon a time, there was a nosy named! who was to!!!!!!!!!!!!!!!!!!!!!!!!!!!!!!!!!!!!!!!!!!!!!!!!!!!!!!!!!!!!!!!!!!!!!!!!!!!!!!!!!!!!!!!!!!!!!!!!!!!!!!!!!!!!!!!!!!!!!!!!!!!!!!!!!!!!!!!!!!!!!!!!!!!!!!!!! !!\n",
      "\n",
      "--------------------------------------------------\n",
      "\n",
      "Once upon a time, there was a nosy named! who was to!!!!!!!!!!!!!!!!!!!!!!!!!!!!!!!!!!!!!!!!!!!!!!!!!!!!!!!!!!!!!!!!!!!!!!!!!!!!!!!!!!!!!!!!!!!!!!!!!!!!!!!!!!!!!!!!!!!!!!!!!!!!!!!!!!!!!!!!!!!!!!!!!!!!!!!!!\n",
      "\n",
      "--------------------------------------------------\n",
      "\n",
      "Once upon a time, there was a nosy named! who was to!!!!!!!!!!!!!!!!!!!!!!!!!!!!!!!!!!!!!!!!!!!!!!!!!!!!!!!!!!!!!!!!!!!!!!!!!!!!!!!!!!!!!!!!!!!!!!!!!!!!!!!!!!!!!!!!!!!!!!!!!!!!!!!!!!!!!!!!!!!!!!!!!!!!!!!\n",
      "\n",
      "--------------------------------------------------\n",
      "\n",
      "Once upon a time, there was a nosy named! who was to!!!!!!!!!!!!!!!!!!!!!!!!!!!!!!!!!!!!!!!!!!!!!!!!!!!!!!!!!!!!!!!!!!!!!!!!!!!!!!!!!!!!!!!!!!!!!!!!!!!!!!!!!!!!!!!!!!!!!!!!!!!!!!!!!!!!!!!!!!!!!!!!!!!! !\n",
      "\n",
      "--------------------------------------------------\n",
      "\n",
      "Once upon a time, there was a nosy named! who was to!!!!!!!!!!!!!!!!!!!!!!!!!!!!!!!!!!!!!!!!!!!!!!!!!!!!!!!!!!!!!!!!!!!!!!!!!!!!!!!!!!!!!!!!!!!!!!!!!!!!!!!!!!!!!!!!!!!!!!!!!!!!!!!!!!!!!!!!!!!!!!!!!!!\n",
      "\n",
      "--------------------------------------------------\n",
      "\n",
      "Once upon a time, there was a nosy named! who was to!!!!!!!!!!!!!!!!!!!!!!!!!!!!!!!!!!!!!!!!!!!!!!!!!!!!!!!!!!!!!!!!!!!!!!!!!!!!!!!!!!!!!!!!!!!!!!!!!!!!!!!!!!!!!!!!!!!!!!!!!!!!!!!!!!!!!!!!!!!!!!!!!\n",
      "\n",
      "--------------------------------------------------\n",
      "\n",
      "Once upon a time, there was a nosy named! who was to!!!!!!!!!!!!!!!!!!!!!!!!!!!!!!!!!!!!!!!!!!!!!!!!!!!!!!!!!!!!!!!!!!!!!!!!!!!!!!!!!!!!!!!!!!!!!!!!!!!!!!!!!!!!!!!!!!!!!!!!!!!!!!!!!!!!!!!!!!!!!!!\n",
      "\n",
      "--------------------------------------------------\n",
      "\n",
      "Once upon a time, there was a nosy named! who was to!!!!!!!!!!!!!!!!!!!!!!!!!!!!!!!!!!!!!!!!!!!!!!!!!!!!!!!!!!!!!!!!!!!!!!!!!!!!!!!!!!!!!!!!!!!!!!!!!!!!!!!!!!!!!!!!!!!!!!!!!!!!!!!!!!!!!!!!!!!!!\n",
      "\n",
      "--------------------------------------------------\n",
      "\n",
      "Once upon a time, there was a nosy named! who was to!!!!!!!!!!!!!!!!!!!!!!!!!!!!!!!!!!!!!!!!!!!!!!!!!!!!!!!!!!!!!!!!!!!!!!!!!!!!!!!!!!!!!!!!!!!!!!!!!!!!!!!!!!!!!!!!!!!!!!!!!!!!!!!!!!!!!!!!!!!\n",
      "\n",
      "--------------------------------------------------\n",
      "\n",
      "Once upon a time, there was a nosy named! who was to!!!!!!!!!!!!!!!!!!!!!!!!!!!!!!!!!!!!!!!!!!!!!!!!!!!!!!!!!!!!!!!!!!!!!!!!!!!!!!!!!!!!!!!!!!!!!!!!!!!!!!!!!!!!!!!!!!!!!!!!!!!!!!!!!!!!!!!! !\n",
      "\n",
      "--------------------------------------------------\n",
      "\n",
      "Once upon a time, there was a nosy named! who was to!!!!!!!!!!!!!!!!!!!!!!!!!!!!!!!!!!!!!!!!!!!!!!!!!!!!!!!!!!!!!!!!!!!!!!!!!!!!!!!!!!!!!!!!!!!!!!!!!!!!!!!!!!!!!!!!!!!!!!!!!!!!!!!!!!!!!!!\n",
      "\n",
      "--------------------------------------------------\n",
      "\n",
      "Once upon a time, there was a nosy named! who was to!!!!!!!!!!!!!!!!!!!!!!!!!!!!!!!!!!!!!!!!!!!!!!!!!!!!!!!!!!!!!!!!!!!!!!!!!!!!!!!!!!!!!!!!!!!!!!!!!!!!!!!!!!!!!!!!!!!!!!!!!!!!! !!!!!!!!\n",
      "\n",
      "--------------------------------------------------\n",
      "\n",
      "Once upon a time, there was a nosy named! who was to!!!!!!!!!!!!!!!!!!!!!!!!!!!!!!!!!!!!!!!!!!!!!!!!!!!!!!!!!!!!!!!!!!!!!!!!!!!!!!!!!!!!!!!!!!!!!!!!!!!!!!!!!!!!!!!!!!!!!!!!!!!!! !!!!!!\n",
      "\n",
      "--------------------------------------------------\n",
      "\n",
      "Once upon a time, there was a nosy named! who was to!!!!!!!!!!!!!!!!!!!!!!!!!!!!!!!!!!!!!!!!!!!!!!!!!!!!!!!!!!!!!!!!!!!!!!!!!!!!!!!!!!!!!!!!!!!!!!!!!!!!!!!!!!!!!!!!!!!!!!!!!!!!! !!!!\n",
      "\n",
      "--------------------------------------------------\n",
      "\n",
      "Once upon a time, there was a nosy named! who was to!!!!!!!!!!!!!!!!!!!!!!!!!!!!!!!!!!!!!!!!!!!!!!!!!!!!!!!!!!!!!!!!!!!!!!!!!!!!!!!!!!!!!!!!!!!!!!!!!!!!!!!!!!!!!!!!!!!!!!!!!!!!! !!\n",
      "\n",
      "--------------------------------------------------\n",
      "\n",
      "Once upon a time, there was a nosy named! who was to!!!!!!!!!!!!!!!!!!!!!!!!!!!!!!!!!!!!!!!!!!!!!!!!!!!!!!!!!!!!!!!!!!!!!!!!!!!!!!!!!!!!!!!!!!!!!!!!!!!!!!!!!!!!!!!!!!!!!!!!!!!!!\n",
      "\n",
      "--------------------------------------------------\n",
      "\n",
      "Once upon a time, there was a nosy named! who was to!!!!!!!!!!!!!!!!!!!!!!!!!!!!!!!!!!!!!!!!!!!!!!!!!!!!!!!!!!!!!!!!!!!!!!!!!!!!!!!!!!!!!!!!!!!!!!!!! !!!!!!!!!!!!!!!!!!!!!!!!!!\n",
      "\n",
      "--------------------------------------------------\n",
      "\n",
      "Once upon a time, there was a nosy named! who was to!!!!!!!!!!!!!!!!!!!!!!!!!!!!!!!!!!!!!!!!!!!!!!!!!!!!!!!!!!!!!!!!!!!!!!!!!!!!!!!!!!!!!!!!!!!!!!!!! !!!!!!!!!!!!!!!!!!!!!!!!\n",
      "\n",
      "--------------------------------------------------\n",
      "\n",
      "Once upon a time, there was a nosy named! who was to!!!!!!!!!!!!!!!!!!!!!!!!!!!!!!!!!!!!!!!!!!!!!!!!!!!!!!!!!!!!!!!!!!!!!!!!!!!!!!!!!!!!!!!!!!!!!!!!! !!!!!!!!! !!!!!!!!!!!!!\n",
      "\n",
      "--------------------------------------------------\n",
      "\n",
      "Once upon a time, there was a nosy named! who was to!!!!!!!!!!!!!!!!!!!!!!!!!!!!!!!!!!!!!!!!!!!!!!!!!!!!!!!!!!!!!!!!!!!!!!!!!!!!!!!!!!!!!!!!!!!!!!!!! !!!!!!!! !!!!!!!!!!!!\n",
      "\n",
      "--------------------------------------------------\n",
      "\n",
      "Once upon a time, there was a nosy named! who was to!!!!!!!!!!!!!!!!!!!!!!!!!!!!!!!!!!!!!!!!!!!!!!!!!!!!!!!!!!!!!!!!!!!!!!!!!!!!!!!!!!!!!!!!!!!!!!!!! !!!!!!! !!!!!!!!!!!\n",
      "\n",
      "--------------------------------------------------\n",
      "\n",
      "Once upon a time, there was a nosy named! who was to!!!!!!!!!!!!!!!!!!!!!!!!!!!!!!!!!!!!!!!!!!!!!!!!!!!!!!!!!!!!!!!!!!!!!!!!!!!!!!!!!!!!!!!!!!!!!!!!! !!!!!! !!!!!!!!!!\n",
      "\n",
      "--------------------------------------------------\n",
      "\n",
      "Once upon a time, there was a nosy named! who was to!!!!!!!!!!!!!!!!!!!!!!!!!!!!!!!!!!!!!!!!!!!!!!!!!!!!!!!!!!!!!!!!!!!!!!!!!!!!!!!!!!!!!!!!!!!!!!!!! !!!!! !!!!!!!!!\n",
      "\n",
      "--------------------------------------------------\n",
      "\n",
      "Once upon a time, there was a nosy named! who was to!!!!!!!!!!!!!!!!!!!!!!!!!!!!!!!!!!!!!!!!!!!!!!!!!!!!!!!!!!!!!!!!!!!!!!!!!!!!!!!!!!!!!!!!!!!!!!!!! !!!! !!!!!!!!\n",
      "\n",
      "--------------------------------------------------\n",
      "\n",
      "Once upon a time, there was a nosy named! who was to!!!!!!!!!!!!!!!!!!!!!!!!!!!!!!!!!!!!!!!!!!!!!!!!!!!!!!!!!!!!!!!!!!!!!!!!!!!!!!!!!!!!!!!!!!!!!!!!! !!! !!!!!!!\n",
      "\n",
      "--------------------------------------------------\n",
      "\n",
      "Once upon a time, there was a nosy named! who was to!!!!!!!!!!!!!!!!!!!!!!!!!!!!!!!!!!!!!!!!!!!!!!!!!!!!!!!!!!!!!!!!!!!!!!!!!!!!!!!!!!!!!!!!!!!!!!!!! !! !!!!!!\n",
      "\n",
      "--------------------------------------------------\n",
      "\n",
      "Once upon a time, there was a nosy named! who was to!!!!!!!!!!!!!!!!!!!!!!!!!!!!!!!!!!!!!!!!!!!!!!!!!!!!!!!!!!!!!!!!!!!!!!!!!!!!!!!!!!!!!!!!!!!!!!!!! !!!!!!\n",
      "\n",
      "--------------------------------------------------\n",
      "\n",
      "Once upon a time, there was a nosy named! who was to!!!!!!!!!!!!!!!!!!!!!!!!!!!!!!!!!!!!!!!!!!!!!!!!!!!!!!!!!!!!!!!!!!!!!!!!!!!!!!!!!!!!!!!!!!!!!!!!! !!!!\n",
      "\n",
      "--------------------------------------------------\n",
      "\n",
      "Once upon a time, there was a nosy named! who was to!!!!!!!!!!!!!!!!!!!!!!!!!!!!!!!!!!!!!!!!!!!!!!!!!!!!!!!!!!!!!!!!!!!!!!!!!!!!!!!!!!!!!!!!!!!!!!!!! !!\n",
      "\n",
      "--------------------------------------------------\n",
      "\n",
      "Once upon a time, there was a nosy named! who was to!!!!!!!!!!!!!!!!!!!!!!!!!!!!!!!!!!!!!!!!!!!!!!!!!!!!!!!!!!!!!!!!!!!!!!!!!!!!!!!!!!!!!!!!!!!!!!!!!\n",
      "\n",
      "--------------------------------------------------\n",
      "\n",
      "Once upon a time, there was a nosy named! who was to!!!!!!!!!!!!!!!!!!!!!!!!!!!!!!!!!!!!!!!!!!!!!!!!!!!!!!!!!!!!!!!!!!!!!!!!!!!!!!!!!!!!! !!!!!!!!!!\n",
      "\n",
      "--------------------------------------------------\n",
      "\n",
      "Once upon a time, there was a nosy named! who was to!!!!!!!!!!!!!!!!!!!!!!!!!!!!!!!!!!!!!!!!!!!!!!!!!!!!!!!!!!!!!!!!!!!!!!!!!!!!!!!!!!!!! !!!!!! !!\n",
      "\n",
      "--------------------------------------------------\n",
      "\n",
      "Once upon a time, there was a nosy named! who was to!!!!!!!!!!!!!!!!!!!!!!!!!!!!!!!!!!!!!!!!!!!!!!!!!!!!!!!!!!!!!!!!!!!!!!!!!!!!!!!!!!!!! !!!!! !\n",
      "\n",
      "--------------------------------------------------\n",
      "\n",
      "Once upon a time, there was a nosy named! who was to!!!!!!!!!!!!!!!!!!!!!!!!!!!!!!!!!!!!!!!!!!!!!!!!!!!!!!!!!!!!!!!!!!!!!!!!!!!!!!!!!!!!! !!! !\n",
      "\n",
      "--------------------------------------------------\n",
      "\n",
      "Once upon a time, there was a nosy named! who was to!!!!!!!!!!!!!!!!!!!!!!!!!!!!!!!!!!!!!!!!!!!!!!!!!!!!!!!!!!!!!!!!!!!!!!!!!!!!!!!!!!!!! !!\n",
      "\n",
      "--------------------------------------------------\n",
      "\n",
      "Once upon a time, there was a nosy named! who was to!!!!!!!!!!!!!!!!!!!!!!!!!!!!!!!!!!!!!!!!!!!!!!!!!!!!!!!!!!!!!!!!!!!!!!!!!!!!!!!!!!!!!\n",
      "\n",
      "--------------------------------------------------\n",
      "\n",
      "Once upon a time, there was a nosy named! who was to!!!!!!!!!!!!!!!!!!!!!!!!!!!!!!!!!!!!!!!!!!!!!!!!!!!!!!!!!!!!!!!!!!!!! !!!!!!!!!!!!!!\n",
      "\n",
      "--------------------------------------------------\n",
      "\n",
      "Once upon a time, there was a nosy named! who was to!!!!!!!!!!!!!!!!!!!!!!!!!!!!!!!!!!!!!!!!!!!!!!!!!!!!!!!!!!!!!!!!!!!!! !!!!!!!!!!!!\n",
      "\n",
      "--------------------------------------------------\n",
      "\n",
      "Once upon a time, there was a nosy named! who was to!!!!!!!!!!!!!!!!!!!!!!!!!!!!!!!!!!!!!!!!!!!!!!!!!!!!!!!!!!!!!!!!!!!!! !!!!!!!! !!\n",
      "\n",
      "--------------------------------------------------\n",
      "\n",
      "Once upon a time, there was a nosy named! who was to!!!!!!!!!!!!!!!!!!!!!!!!!!!!!!!!!!!!!!!!!!!!!!!!!!!!!!!!!!!!!!!!!!!!! !!!!!!! !\n",
      "\n",
      "--------------------------------------------------\n",
      "\n",
      "Once upon a time, there was a nosy named! who was to!!!!!!!!!!!!!!!!!!!!!!!!!!!!!!!!!!!!!!!!!!!!!!!!!!!!!!!!!!!!!!!!!!!!! !!!!!!\n",
      "\n",
      "--------------------------------------------------\n",
      "\n",
      "Once upon a time, there was a nosy named! who was to!!!!!!!!!!!!!!!!!!!!!!!!!!!!!!!!!!!!!!!!!!!!!!!!!!!!!!!!!!!!!!!!!!!!! !!!!\n",
      "\n",
      "--------------------------------------------------\n",
      "\n",
      "Once upon a time, there was a nosy named! who was to!!!!!!!!!!!!!!!!!!!!!!!!!!!!!!!!!!!!!!!!!!!!!!!!!!!!!!!!!!!!!!!!!!!!! !!\n",
      "\n",
      "--------------------------------------------------\n",
      "\n",
      "Once upon a time, there was a nosy named! who was to!!!!!!!!!!!!!!!!!!!!!!!!!!!!!!!!!!!!!!!!!!!!!!!!!!!!!!!!!!!!!!!!!!!!!\n",
      "\n",
      "--------------------------------------------------\n",
      "\n",
      "Once upon a time, there was a nosy named! who was to!!!!!!!!!!!!!!!!!!!!!!!!!!!!!!!!!!!!! !!!!!!!!!!!!!!!!!!!!!!!!!!!!!!\n",
      "\n",
      "--------------------------------------------------\n",
      "\n",
      "Once upon a time, there was a nosy named! who was to!!!!!!!!!!!!!!!!!!!!!!!!!!!!!!!!!!!!! !!!!! !!!!!!!!!!!!!!!!!!!!!!!\n",
      "\n",
      "--------------------------------------------------\n",
      "\n",
      "Once upon a time, there was a nosy named! who was to!!!!!!!!!!!!!!!!!!!!!!!!!!!!!!!!!!!!! !!!! !!!!!!!!!!!!!!!!!!!!!!\n",
      "\n",
      "--------------------------------------------------\n",
      "\n",
      "Once upon a time, there was a nosy named! who was to!!!!!!!!!!!!!!!!!!!!!!!!!!!!!!!!!!!!! !! !!!!!!!!!!!!!!!!!!!!!!\n",
      "\n",
      "--------------------------------------------------\n",
      "\n",
      "Once upon a time, there was a nosy named! who was to!!!!!!!!!!!!!!!!!!!!!!!!!!!!!!!!!!!!! !!!!!!!!!!!!!!!!!!!!!!\n",
      "\n",
      "--------------------------------------------------\n",
      "\n",
      "Once upon a time, there was a nosy named! who was to!!!!!!!!!!!!!!!!!!!!!!!!!!!!!!!!!!!!! !!!!!!!! !!!!!!!!!!!!\n",
      "\n",
      "--------------------------------------------------\n",
      "\n",
      "Once upon a time, there was a nosy named! who was to!!!!!!!!!!!!!!!!!!!!!!!!!!!!!!!!!!!!! !!!!!! !!!!!!!!!!!!\n",
      "\n",
      "--------------------------------------------------\n",
      "\n",
      "Once upon a time, there was a nosy named! who was to!!!!!!!!!!!!!!!!!!!!!!!!!!!!!!!!!!!!! !!!!! !!!!!!!!!!!\n",
      "\n",
      "--------------------------------------------------\n",
      "\n",
      "Once upon a time, there was a nosy named! who was to!!!!!!!!!!!!!!!!!!!!!!!!!!!!!!!!!!!!! !!!! !!!!!!!!!!\n",
      "\n",
      "--------------------------------------------------\n",
      "\n",
      "Once upon a time, there was a nosy named! who was to!!!!!!!!!!!!!!!!!!!!!!!!!!!!!!!!!!!!! !!! !!!!!!!!!\n",
      "\n",
      "--------------------------------------------------\n",
      "\n",
      "Once upon a time, there was a nosy named! who was to!!!!!!!!!!!!!!!!!!!!!!!!!!!!!!!!!!!!! !! !!!!!!!!\n",
      "\n",
      "--------------------------------------------------\n",
      "\n",
      "Once upon a time, there was a nosy named! who was to!!!!!!!!!!!!!!!!!!!!!!!!!!!!!!!!!!!!! ! !!!!!!!\n",
      "\n",
      "--------------------------------------------------\n",
      "\n",
      "Once upon a time, there was a nosy named! who was to!!!!!!!!!!!!!!!!!!!!!!!!!!!!!!!!!!!!! !!!!!!\n",
      "\n",
      "--------------------------------------------------\n",
      "\n",
      "Once upon a time, there was a nosy named! who was to!!!!!!!!!!!!!!!!!!!!!!!!!!!!!!!!!!!!! !!!!\n",
      "\n",
      "--------------------------------------------------\n",
      "\n",
      "Once upon a time, there was a nosy named! who was to!!!!!!!!!!!!!!!!!!!!!!!!!!!!!!!!!!!!! !!\n",
      "\n",
      "--------------------------------------------------\n",
      "\n",
      "Once upon a time, there was a nosy named! who was to!!!!!!!!!!!!!!!!!!!!!!!!!!!!!!!!!!!!!\n",
      "\n",
      "--------------------------------------------------\n",
      "\n",
      "Once upon a time, there was a nosy named! who was to!!!!!!!!!!!!!!!!!!!!!!!!! !!!!!!!!!!\n",
      "\n",
      "--------------------------------------------------\n",
      "\n",
      "Once upon a time, there was a nosy named! who was to!!!!!!!!!!!!!!!!!!!!!!!!! !!!! !!!!\n",
      "\n",
      "--------------------------------------------------\n",
      "\n",
      "Once upon a time, there was a nosy named! who was to!!!!!!!!!!!!!!!!!!!!!!!!! !!!! !!\n",
      "\n",
      "--------------------------------------------------\n",
      "\n",
      "Once upon a time, there was a nosy named! who was to!!!!!!!!!!!!!!!!!!!!!!!!! !!!!\n",
      "\n",
      "--------------------------------------------------\n",
      "\n",
      "Once upon a time, there was a nosy named! who was to!!!!!!!!!!!!!!!!!!!!!!!!! !!\n",
      "\n",
      "--------------------------------------------------\n",
      "\n",
      "Once upon a time, there was a nosy named! who was to!!!!!!!!!!!!!!!!!!!!!!!!!\n",
      "\n",
      "--------------------------------------------------\n",
      "\n",
      "Once upon a time, there was a nosy named! who was to!!!!!!!!! !!!!!!!!!!!!!!\n",
      "\n",
      "--------------------------------------------------\n",
      "\n",
      "Once upon a time, there was a nosy named! who was to!!!!!!!!! !!! !!!!!!!!!\n",
      "\n",
      "--------------------------------------------------\n",
      "\n",
      "Once upon a time, there was a nosy named! who was to!!!!!!!!! !! !!!!!!!!\n",
      "\n",
      "--------------------------------------------------\n",
      "\n",
      "Once upon a time, there was a nosy named! who was to!!!!!!!!! !!!!!!!!\n",
      "\n",
      "--------------------------------------------------\n",
      "\n",
      "Once upon a time, there was a nosy named! who was to!!!!!!!!! !!!! !!\n",
      "\n",
      "--------------------------------------------------\n",
      "\n",
      "Once upon a time, there was a nosy named! who was to!!!!!!!!! !!!!\n",
      "\n",
      "--------------------------------------------------\n",
      "\n",
      "Once upon a time, there was a nosy named! who was to!!!!!!!!! !!\n",
      "\n",
      "--------------------------------------------------\n",
      "\n",
      "Once upon a time, there was a nosy named! who was to!!!!!!!!!\n",
      "\n",
      "--------------------------------------------------\n",
      "\n",
      "Once upon a time, there was a nosy named! who was to read!!!!!!!\n",
      "\n",
      "--------------------------------------------------\n",
      "\n",
      "Once upon a time, there was a nosy named! who was to read a!!!!!\n",
      "\n",
      "--------------------------------------------------\n",
      "\n",
      "Once upon a time, there was a nosy named! who was to read a newspaper!!!\n",
      "\n",
      "--------------------------------------------------\n",
      "\n",
      "Once upon a time, there was a nosy named! who was to read a newspaper.!\n",
      "\n",
      "--------------------------------------------------\n",
      "\n",
      "Once upon a time, there was a nosy named cat who was to read a newspaper.\n",
      "\n",
      "--------------------------------------------------\n",
      "\n"
     ]
    }
   ],
   "source": [
    "seq = torch.zeros(256, dtype=torch.long, device=device)\n",
    "mask = torch.ones(256, dtype=torch.bool, device=device)\n",
    "\n",
    "output, mask = model.generate(seq, mask, num_steps=128, temp=1.0, top_k=100, return_history=True)\n",
    "\n",
    "for e in output : \n",
    "    text = token_ids_to_text(e, text_tokenizer=tokenizer) \n",
    "    #i = text.replace(\"!\", \" \")\n",
    "    print(text)\n",
    "    print('\\n' + '-'*50 + '\\n')"
   ]
  },
  {
   "cell_type": "markdown",
   "id": "ee85f348-ce6a-4cf7-8ba8-ae5ba0cacf6f",
   "metadata": {},
   "source": [
    "#### 3.5.2 Number of inference steps\n",
    "\n",
    "Similar as in 2.5.1, with MaskGIT, we can freely choose the number of inference steps `k`. We default to `k=8`, but how does generation with `k` = 1, 4, 8, 16, 32, 49 perform? What do you observe?"
   ]
  },
  {
   "cell_type": "code",
   "execution_count": 35,
   "id": "743cad67-9e6e-47fd-8a8a-e43161548927",
   "metadata": {},
   "outputs": [
    {
     "name": "stdout",
     "output_type": "stream",
     "text": [
      "Once and a time little there They a named.. Lily. it of to very was with park old do and he a the One wanted.\n",
      "the something on that was, it started a around and and\n",
      "would a with said the. mom TheOne said was little!\". Lily, it her you\n",
      "\" he her the Lily the. of,\" can can and and.\n",
      "in to the the,\" happy looked was to see She and\n",
      ", saw a butI to the so got they\n",
      "then happy was was wasThe a , that\n",
      "and. is, had\n",
      "in was friends but the it. her it said in's andThe\n",
      "of They felt. and the in of saw. he a and help She with was She. very the the !\" her, have to the but their smiled so to you and it It They to his to . . help to my\n",
      "\n",
      "--------------------------------------------------\n",
      "\n",
      "Once upon a time, there was little boy. He loved never brave his and liked explore,. with the dad of with go his, the dad. of his to something a a so take he! was scared the go \"'t something was a asked scared do too something said a and\n",
      "the was boy asked the them boy boy what to too scared that him little up The and want's was. big. he what. you \" to the But his the \" out he't.\n",
      ", that said couldThis to never always away. in and did'm \" do need what boy his one thought's't will He he.'s boy kind so boy that and the was\n",
      "man.. the you\n",
      ".\" be the. boy him around of., \" boy this \"The. but, in.. a boy. He enjoyed his happy and the with to never felt and. and man\n",
      "special moral of on the knew that he brave be an, was could to around the the and together would be\n",
      ". a want not't . she them and he says\n",
      "\n",
      "--------------------------------------------------\n",
      "\n",
      "Once upon, a little there was a little.. Sam It named to big. big and one. and was and her loved so TheOne day rabbit girl what be asked,.. and around. Sam\n",
      "\n",
      "sunny day, but she was't. Sam't\n",
      ".\n",
      "She and she \"Do I wants to\n",
      "\" special, like Sam She asked the rabbit and on \" his. \" me to\n",
      "Sam She not.\" wanted She and.\n",
      "in me next the the hand what want. like Sam She It \"\". you. she something\n",
      "it's Sam and,\". and \"\". hand\n",
      "the the SheSam's a ofThe \" knew him, what had Sam said in theThat.\n",
      "\n",
      "After,, the. a the. and hopped like Sam's rabbit name,The. day is a It's me nice of was it be happy\n",
      "Sam\n",
      "!\"\n",
      "rabbit how had the smiled. She with her. and much be,Sam day for was happy and it best day for to said.\n",
      "The rabbit the to said his back had is, happy thought giving her the so to have was wonderful look on smiled .\" She They the\n",
      "\n",
      "--------------------------------------------------\n",
      "\n",
      "Once there was Ben big girl a. had.. to. They day big .\n",
      "\n",
      "--------------------------------------------------\n",
      "\n",
      "Tom was Ben went,. girl liked a woman. The girl they good. with to ,\n",
      "\n",
      "--------------------------------------------------\n",
      "\n",
      "Once upon a time there was a pretty who\n",
      "\n",
      "--------------------------------------------------\n",
      "\n",
      "Once day Mike was walking in the park. He was feeling the cold, but he suddenly felt the heat on him. He turned around, he saw a big umbrella. Mike ran to to it. He wanted to have a fun and he was already stuck! So he just stepped forward pushing his umbrella and it kept going.\n",
      "\n",
      "When Mike was almost, he noticed a big open window. A big light had to open and it made Mike a wish was in one more time! He watched the candle up in the sky and gasped with excitement. Mike couldn't wait to take a closer look.\n",
      "\n",
      "He stepped in the corner. Then, a box revealed from his mummy, she ran to him and shouted \"Let's see what made you wish and the man will open his dream\". Mike was so excited! He grabbed his umbrella and ran to the living room.\n",
      "\n",
      "He ran back outside and told her daddy about his wish. Her mummy and daddy hugged him and said that it was a brilliant wish for his rainbow dream! It was very amazing.\n",
      "\n",
      "They both laughed and hugged each other.\n",
      "\n",
      "--------------------------------------------------\n",
      "\n"
     ]
    }
   ],
   "source": [
    "ks = [1, 4, 8, 16, 32, 49, 256]\n",
    "for k in ks:\n",
    "    seq = torch.zeros(256, dtype=torch.long, device=device)\n",
    "    mask = torch.ones(256, dtype=torch.bool, device=device)\n",
    "    output = model.generate(seq, mask, num_steps=k, temp=1.0, top_k=100, return_history=False)\n",
    "    print(token_ids_to_text(output[0], text_tokenizer=tokenizer) )\n",
    "    print('\\n' + '-'*50 + '\\n')"
   ]
  },
  {
   "cell_type": "markdown",
   "id": "98a6b31c-2d8b-41f9-a124-70e0238daa06",
   "metadata": {},
   "source": [
    "#### 3.5.3 Comparison to autoregressive generation\n",
    "\n",
    "How would you compare these results to the ones you got from nanoGPT? What are some failure modes you observe? And what could be some benefits? Do you have any thoughs on how we can improve text generation with masked models, or should we just stick to autoregressive models?"
   ]
  },
  {
   "cell_type": "code",
   "execution_count": 15,
   "id": "fd05978d-7fa1-4263-8179-ec11a46842c2",
   "metadata": {},
   "outputs": [],
   "source": [
    "# Fill your answer here"
   ]
  },
  {
   "cell_type": "markdown",
   "id": "52cf37ad-3f51-443d-879f-6632cea55f5b",
   "metadata": {
    "tags": []
   },
   "source": [
    "## 4 Further reading\n",
    "\n",
    "Here is some further reading material should you want to dive deeper on masked modeling.\n",
    "\n",
    "Masked image generation:\n",
    "- [MaskGIT: Masked Generative Image Transformer](https://arxiv.org/abs/2202.04200)\n",
    "- [Muse: Text-To-Image Generation via Masked Generative Transformers](https://arxiv.org/abs/2301.00704)\n",
    "- [MAGE: MAsked Generative Encoder to Unify Representation Learning and Image Synthesis](https://arxiv.org/abs/2211.09117)\n",
    "- [Randomized Autoregressive Visual Generation](https://arxiv.org/abs/2411.00776)\n",
    "- [RandAR: Decoder-only Autoregressive Visual Generation in Random Orders](https://arxiv.org/abs/2412.01827)\n",
    "- [Autoregressive Image Generation without Vector Quantization](https://arxiv.org/abs/2406.11838)\n",
    "- [4M: Massively Multimodal Masked Modeling](https://arxiv.org/abs/2312.06647)\n",
    "\n",
    "Masked text generation:\n",
    "- [Exploring the Limits of Transfer Learning with a Unified Text-to-Text Transformer](https://arxiv.org/abs/1910.10683)\n",
    "- [Structured Denoising Diffusion Models in Discrete State-Spaces](https://arxiv.org/abs/2107.03006)\n",
    "- [Large Language Diffusion Models](https://arxiv.org/abs/2502.09992)\n",
    "\n",
    "Masked pre-training:\n",
    "- [BERT: Pre-training of Deep Bidirectional Transformers for Language Understanding](https://arxiv.org/abs/1810.04805)\n",
    "- [RoBERTa: A Robustly Optimized BERT Pretraining Approach](https://arxiv.org/abs/1907.11692)\n",
    "- [ELECTRA: Pre-training Text Encoders as Discriminators Rather Than Generators](https://arxiv.org/abs/2003.10555)\n",
    "- [Masked Autoencoders Are Scalable Vision Learners](https://arxiv.org/abs/2111.06377)\n",
    "- [BEiT: BERT Pre-Training of Image Transformers](https://arxiv.org/abs/2106.08254)\n",
    "- [BEiT v2: Masked Image Modeling with Vector-Quantized Visual Tokenizers](https://arxiv.org/abs/2208.06366)"
   ]
  },
  {
   "cell_type": "code",
   "execution_count": null,
   "id": "abb1dead-53d5-4b38-9ef3-52a7cbe47ea1",
   "metadata": {},
   "outputs": [],
   "source": []
  }
 ],
 "metadata": {
  "kernelspec": {
   "display_name": "nano4M kernel (nanofm)",
   "language": "python",
   "name": "nanofm"
  },
  "language_info": {
   "codemirror_mode": {
    "name": "ipython",
    "version": 3
   },
   "file_extension": ".py",
   "mimetype": "text/x-python",
   "name": "python",
   "nbconvert_exporter": "python",
   "pygments_lexer": "ipython3",
   "version": "3.10.16"
  }
 },
 "nbformat": 4,
 "nbformat_minor": 5
}
