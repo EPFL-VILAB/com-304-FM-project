{
  "cells": [
    {
      "cell_type": "markdown",
      "metadata": {
        "id": "EYPrtDEuuwiA"
      },
      "source": [
        "<a href=\"https://colab.research.google.com/drive/1_9b6XAhXJL98kHkufn7PkKyK3q-9BYZv?usp=sharing\" target=\"_parent\"><img src=\"https://colab.research.google.com/assets/colab-badge.svg\" alt=\"Open In Colab\"/></a>\n"
      ]
    },
    {
      "cell_type": "markdown",
      "metadata": {
        "id": "uoiN-XyCm-pu"
      },
      "source": [
        "# 01. PyTorch Tensor Fundamentals Exercises [20 points]\n",
        "\n",
        "### 1. [2 points] Documentation reading\n",
        "\n",
        "A big part of deep learning (and learning to code in general) is getting familiar with the documentation of a certain framework you're using. We'll be using the PyTorch documentation a lot throughout the rest of this course. So I'd recommend spending 10-minutes reading the following (it's okay if you don't get some things for now, the focus is not yet full understanding, it's awareness):\n",
        "  * The documentation on [`torch.Tensor`](https://pytorch.org/docs/stable/tensors.html#torch-tensor).\n",
        "  * The documentation on [`torch.cuda`](https://pytorch.org/docs/master/notes/cuda.html#cuda-semantics).\n",
        "\n"
      ]
    },
    {
      "cell_type": "code",
      "execution_count": null,
      "metadata": {
        "id": "2mIWt4XSodys"
      },
      "outputs": [],
      "source": [
        "# No code solution (reading)"
      ]
    },
    {
      "cell_type": "markdown",
      "metadata": {
        "id": "yvVtFHcCobkx"
      },
      "source": [
        "### 2. [2 points] Create a random tensor with shape `(8, 8)`. \n"
      ]
    },
    {
      "cell_type": "code",
      "execution_count": null,
      "metadata": {
        "id": "bfQRcf6mKptw"
      },
      "outputs": [],
      "source": [
        "# Import torch\n",
        "\n",
        "# Create random tensor\n"
      ]
    },
    {
      "cell_type": "markdown",
      "metadata": {
        "id": "p4-MSExool1d"
      },
      "source": [
        "### 3. [2 points] Perform a matrix multiplication on the tensor from 2 with another random tensor with shape `(1, 8)` (hint: you may have to transpose the second tensor). "
      ]
    },
    {
      "cell_type": "code",
      "execution_count": null,
      "metadata": {
        "id": "3YWvCmllonv2"
      },
      "outputs": [],
      "source": [
        "# Create another random tensor\n",
        "\n",
        "# Perform matrix multiplication\n"
      ]
    },
    {
      "cell_type": "markdown",
      "metadata": {
        "id": "t8F1OzCMoqPg"
      },
      "source": [
        "### 4. [2 points] Set the random seed to `0` and do 2 & 3 over again. \n",
        "\n",
        "The output should be:\n",
        "```\n",
        "(tensor([[2.0579],\n",
        "         [1.4392],\n",
        "         [2.9189],\n",
        "         [1.9295],\n",
        "         [1.7499],\n",
        "         [1.5325],\n",
        "         [2.7487],\n",
        "         [2.2421]]),\n",
        " torch.Size([8, 1]))\n",
        "```"
      ]
    },
    {
      "cell_type": "code",
      "execution_count": null,
      "metadata": {
        "id": "J_1L7ATQorXw"
      },
      "outputs": [],
      "source": [
        "# Set manual seed\n",
        "\n",
        "# Create two random tensors\n",
        "\n",
        "# Matrix multiply tensors\n"
      ]
    },
    {
      "cell_type": "markdown",
      "metadata": {
        "id": "BzoKySH1oupf"
      },
      "source": [
        "### 5. [2 points] Speaking of random seeds, we saw how to set it with `torch.manual_seed()` but is there a GPU equivalent? (hint: you'll need to look into the documentation for `torch.cuda` for this one) \n",
        "  * If there is, set the GPU random seed to `1234`."
      ]
    },
    {
      "cell_type": "code",
      "execution_count": 4,
      "metadata": {
        "id": "n_Rjys7PowU5"
      },
      "outputs": [],
      "source": [
        "# Set random seed on the GPU\n"
      ]
    },
    {
      "cell_type": "markdown",
      "metadata": {
        "id": "JzDVD5iroyZX"
      },
      "source": [
        "\n",
        "### 6. [2 points] Create two random tensors of shape `(3, 2)` and send them both to the GPU (you'll need access to a GPU for this). Set `torch.manual_seed(1234)` when creating the tensors (this doesn't have to be the GPU random seed). The output should be something like:\n",
        "\n",
        "```\n",
        "Device: cuda\n",
        "(tensor([[0.0290, 0.4019],\n",
        "         [0.2598, 0.3666],\n",
        "         [0.0583, 0.7006]], device='cuda:0'),\n",
        " tensor([[0.0518, 0.4681],\n",
        "         [0.6738, 0.3315],\n",
        "         [0.7837, 0.5631]], device='cuda:0'))\n",
        "```"
      ]
    },
    {
      "cell_type": "code",
      "execution_count": null,
      "metadata": {
        "id": "1btF7EIdo0Z_"
      },
      "outputs": [],
      "source": [
        "# Set random seed\n",
        "\n",
        "# Check for access to GPU\n",
        "\n",
        "# Create two random tensors on GPU\n"
      ]
    },
    {
      "cell_type": "markdown",
      "metadata": {
        "id": "s-5cZBGto11y"
      },
      "source": [
        "\n",
        "### 7. [2 points] Perform a matrix multiplication on the tensors you created in 6 (again, you may have to adjust the shapes of one of the tensors).\n",
        "\n",
        "The output should look like:\n",
        "```\n",
        "(tensor([[0.1896, 0.1527, 0.2490],\n",
        "         [0.1851, 0.2966, 0.4101],\n",
        "         [0.3310, 0.2715, 0.4402]], device='cuda:0'),\n",
        " torch.Size([3, 3]))\n",
        "```"
      ]
    },
    {
      "cell_type": "code",
      "execution_count": null,
      "metadata": {
        "id": "EbEIZsmIo3YW"
      },
      "outputs": [],
      "source": [
        "# Perform matmul on tensor_A and tensor_B\n"
      ]
    },
    {
      "cell_type": "markdown",
      "metadata": {
        "id": "k-qWJlp4o48E"
      },
      "source": [
        "### 8. [2 points] Find the maximum and minimum values of the output of 7."
      ]
    },
    {
      "cell_type": "code",
      "execution_count": null,
      "metadata": {
        "id": "eCZd7TVWo54w"
      },
      "outputs": [],
      "source": [
        "# Find max\n",
        "\n",
        "# Find min\n"
      ]
    },
    {
      "cell_type": "markdown",
      "metadata": {
        "id": "ACGufATTo8lW"
      },
      "source": [
        "### 9. [2 points] Find the maximum and minimum index values of the output of 7."
      ]
    },
    {
      "cell_type": "code",
      "execution_count": null,
      "metadata": {
        "id": "Q5Kx9I-do9yy"
      },
      "outputs": [],
      "source": [
        "# Find arg max\n",
        "\n",
        "# Find arg min\n"
      ]
    },
    {
      "cell_type": "markdown",
      "metadata": {
        "id": "lNVfFkano_NG"
      },
      "source": [
        "\n",
        "### 10. [2 points] Make a random tensor with shape `(1, 1, 1, 10)` and then create a new tensor with all the `1` dimensions removed to be left with a tensor of shape `(10)`. Set the seed to `8` when you create it and print out the first tensor and it's shape as well as the second tensor and it's shape.\n",
        "\n",
        "The output should look like:\n",
        "\n",
        "```\n",
        "tensor([[[[0.5979, 0.8453, 0.9464, 0.2965, 0.5138, 0.6443, 0.8991, 0.0141,\n",
        "           0.5785, 0.1218]]]]) torch.Size([1, 1, 1, 10])\n",
        "tensor([0.5979, 0.8453, 0.9464, 0.2965, 0.5138, 0.6443, 0.8991, 0.0141, 0.5785,\n",
        "        0.1218]) torch.Size([10])\n",
        "```"
      ]
    },
    {
      "cell_type": "code",
      "execution_count": null,
      "metadata": {
        "id": "2uviA6P6pAto"
      },
      "outputs": [],
      "source": [
        "# Set seed\n",
        "\n",
        "# Create random tensor\n",
        "\n",
        "# Remove single dimensions\n",
        "\n",
        "# Print out tensors\n"
      ]
    }
  ],
  "metadata": {
    "accelerator": "GPU",
    "colab": {
      "gpuType": "T4",
      "provenance": []
    },
    "kernelspec": {
      "display_name": "Python 3",
      "name": "python3"
    },
    "language_info": {
      "name": "python"
    }
  },
  "nbformat": 4,
  "nbformat_minor": 0
}
